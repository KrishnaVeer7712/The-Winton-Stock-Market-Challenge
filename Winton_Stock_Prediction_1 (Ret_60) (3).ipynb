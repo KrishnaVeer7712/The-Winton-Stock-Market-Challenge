{
 "cells": [
  {
   "cell_type": "code",
   "execution_count": 46,
   "metadata": {
    "colab": {
     "base_uri": "https://localhost:8080/",
     "height": 34
    },
    "colab_type": "code",
    "id": "Dr62BfHk1IS2",
    "outputId": "beb583a7-8c3a-4e5b-a4b3-7477a150a69b",
    "scrolled": true
   },
   "outputs": [],
   "source": [
    "import numpy\n",
    "import pandas as pd\n",
    "from keras.models import Sequential\n",
    "from keras.layers import Dense\n",
    "from keras.wrappers.scikit_learn import KerasRegressor\n",
    "from sklearn.model_selection import cross_val_score\n",
    "from sklearn.model_selection import KFold\n",
    "from sklearn.preprocessing import StandardScaler\n",
    "from sklearn.pipeline import Pipeline\n",
    "from sklearn.preprocessing import MinMaxScaler\n",
    "import matplotlib.pyplot as plt"
   ]
  },
  {
   "cell_type": "code",
   "execution_count": 47,
   "metadata": {
    "colab": {
     "base_uri": "https://localhost:8080/",
     "height": 328
    },
    "colab_type": "code",
    "id": "6RM6RrXa1K1q",
    "outputId": "6f56db9a-3641-465d-d4bb-fe8ac3d2afdd"
   },
   "outputs": [
    {
     "data": {
      "text/html": [
       "<div>\n",
       "<style scoped>\n",
       "    .dataframe tbody tr th:only-of-type {\n",
       "        vertical-align: middle;\n",
       "    }\n",
       "\n",
       "    .dataframe tbody tr th {\n",
       "        vertical-align: top;\n",
       "    }\n",
       "\n",
       "    .dataframe thead th {\n",
       "        text-align: right;\n",
       "    }\n",
       "</style>\n",
       "<table border=\"1\" class=\"dataframe\">\n",
       "  <thead>\n",
       "    <tr style=\"text-align: right;\">\n",
       "      <th></th>\n",
       "      <th>Feature_1</th>\n",
       "      <th>Feature_2</th>\n",
       "      <th>Feature_3</th>\n",
       "      <th>Feature_4</th>\n",
       "      <th>Feature_5</th>\n",
       "      <th>Feature_6</th>\n",
       "      <th>Feature_7</th>\n",
       "      <th>Feature_8</th>\n",
       "      <th>Feature_9</th>\n",
       "      <th>Feature_10</th>\n",
       "      <th>...</th>\n",
       "      <th>Ret_175</th>\n",
       "      <th>Ret_176</th>\n",
       "      <th>Ret_177</th>\n",
       "      <th>Ret_178</th>\n",
       "      <th>Ret_179</th>\n",
       "      <th>Ret_180</th>\n",
       "      <th>Ret_PlusOne</th>\n",
       "      <th>Ret_PlusTwo</th>\n",
       "      <th>Weight_Intraday</th>\n",
       "      <th>Weight_Daily</th>\n",
       "    </tr>\n",
       "  </thead>\n",
       "  <tbody>\n",
       "    <tr>\n",
       "      <th>0</th>\n",
       "      <td>3.59025</td>\n",
       "      <td>-0.117558</td>\n",
       "      <td>0.558392</td>\n",
       "      <td>0.405572</td>\n",
       "      <td>8</td>\n",
       "      <td>0.430972</td>\n",
       "      <td>75751</td>\n",
       "      <td>0.2254</td>\n",
       "      <td>11.0</td>\n",
       "      <td>4.744703</td>\n",
       "      <td>...</td>\n",
       "      <td>-0.002688</td>\n",
       "      <td>0.002246</td>\n",
       "      <td>-0.000838</td>\n",
       "      <td>-6.953220e-04</td>\n",
       "      <td>0.000003</td>\n",
       "      <td>-0.001974</td>\n",
       "      <td>-0.019512</td>\n",
       "      <td>0.028846</td>\n",
       "      <td>1251507.966</td>\n",
       "      <td>1564384.957</td>\n",
       "    </tr>\n",
       "    <tr>\n",
       "      <th>1</th>\n",
       "      <td>3.59025</td>\n",
       "      <td>-0.117558</td>\n",
       "      <td>0.558392</td>\n",
       "      <td>0.405572</td>\n",
       "      <td>3</td>\n",
       "      <td>0.388896</td>\n",
       "      <td>17369</td>\n",
       "      <td>0.0166</td>\n",
       "      <td>13.0</td>\n",
       "      <td>4.744703</td>\n",
       "      <td>...</td>\n",
       "      <td>-0.000129</td>\n",
       "      <td>0.000123</td>\n",
       "      <td>0.000248</td>\n",
       "      <td>3.320000e-07</td>\n",
       "      <td>0.000003</td>\n",
       "      <td>0.000027</td>\n",
       "      <td>-0.002939</td>\n",
       "      <td>-0.010253</td>\n",
       "      <td>1733950.349</td>\n",
       "      <td>2167437.936</td>\n",
       "    </tr>\n",
       "    <tr>\n",
       "      <th>2</th>\n",
       "      <td>3.59025</td>\n",
       "      <td>-0.696727</td>\n",
       "      <td>0.739591</td>\n",
       "      <td>-0.167928</td>\n",
       "      <td>9</td>\n",
       "      <td>0.471947</td>\n",
       "      <td>8277</td>\n",
       "      <td>0.3650</td>\n",
       "      <td>9.0</td>\n",
       "      <td>5.000000</td>\n",
       "      <td>...</td>\n",
       "      <td>-0.000524</td>\n",
       "      <td>-0.000394</td>\n",
       "      <td>0.000116</td>\n",
       "      <td>5.322560e-04</td>\n",
       "      <td>0.000274</td>\n",
       "      <td>0.000784</td>\n",
       "      <td>-0.024791</td>\n",
       "      <td>0.015711</td>\n",
       "      <td>1529197.383</td>\n",
       "      <td>1911496.729</td>\n",
       "    </tr>\n",
       "    <tr>\n",
       "      <th>3</th>\n",
       "      <td>3.59025</td>\n",
       "      <td>-0.694350</td>\n",
       "      <td>1.568248</td>\n",
       "      <td>0.479073</td>\n",
       "      <td>5</td>\n",
       "      <td>0.120653</td>\n",
       "      <td>22508</td>\n",
       "      <td>0.2654</td>\n",
       "      <td>13.0</td>\n",
       "      <td>5.000000</td>\n",
       "      <td>...</td>\n",
       "      <td>0.000346</td>\n",
       "      <td>-0.000090</td>\n",
       "      <td>0.000288</td>\n",
       "      <td>-1.281100e-04</td>\n",
       "      <td>0.000074</td>\n",
       "      <td>0.000341</td>\n",
       "      <td>-0.005680</td>\n",
       "      <td>-0.002190</td>\n",
       "      <td>1711569.424</td>\n",
       "      <td>2139461.780</td>\n",
       "    </tr>\n",
       "    <tr>\n",
       "      <th>4</th>\n",
       "      <td>6.00000</td>\n",
       "      <td>-1.736489</td>\n",
       "      <td>2.765531</td>\n",
       "      <td>1.245280</td>\n",
       "      <td>7</td>\n",
       "      <td>4.866985</td>\n",
       "      <td>22423</td>\n",
       "      <td>0.2138</td>\n",
       "      <td>13.0</td>\n",
       "      <td>4.000000</td>\n",
       "      <td>...</td>\n",
       "      <td>-0.001235</td>\n",
       "      <td>0.000027</td>\n",
       "      <td>0.002449</td>\n",
       "      <td>8.620000e-06</td>\n",
       "      <td>0.001209</td>\n",
       "      <td>-0.000004</td>\n",
       "      <td>0.036104</td>\n",
       "      <td>-0.026552</td>\n",
       "      <td>1267270.265</td>\n",
       "      <td>1584087.831</td>\n",
       "    </tr>\n",
       "  </tbody>\n",
       "</table>\n",
       "<p>5 rows × 210 columns</p>\n",
       "</div>"
      ],
      "text/plain": [
       "   Feature_1  Feature_2  Feature_3  Feature_4  Feature_5  Feature_6  \\\n",
       "0    3.59025  -0.117558   0.558392   0.405572          8   0.430972   \n",
       "1    3.59025  -0.117558   0.558392   0.405572          3   0.388896   \n",
       "2    3.59025  -0.696727   0.739591  -0.167928          9   0.471947   \n",
       "3    3.59025  -0.694350   1.568248   0.479073          5   0.120653   \n",
       "4    6.00000  -1.736489   2.765531   1.245280          7   4.866985   \n",
       "\n",
       "   Feature_7  Feature_8  Feature_9  Feature_10  ...   Ret_175   Ret_176  \\\n",
       "0      75751     0.2254       11.0    4.744703  ... -0.002688  0.002246   \n",
       "1      17369     0.0166       13.0    4.744703  ... -0.000129  0.000123   \n",
       "2       8277     0.3650        9.0    5.000000  ... -0.000524 -0.000394   \n",
       "3      22508     0.2654       13.0    5.000000  ...  0.000346 -0.000090   \n",
       "4      22423     0.2138       13.0    4.000000  ... -0.001235  0.000027   \n",
       "\n",
       "    Ret_177       Ret_178   Ret_179   Ret_180  Ret_PlusOne  Ret_PlusTwo  \\\n",
       "0 -0.000838 -6.953220e-04  0.000003 -0.001974    -0.019512     0.028846   \n",
       "1  0.000248  3.320000e-07  0.000003  0.000027    -0.002939    -0.010253   \n",
       "2  0.000116  5.322560e-04  0.000274  0.000784    -0.024791     0.015711   \n",
       "3  0.000288 -1.281100e-04  0.000074  0.000341    -0.005680    -0.002190   \n",
       "4  0.002449  8.620000e-06  0.001209 -0.000004     0.036104    -0.026552   \n",
       "\n",
       "   Weight_Intraday  Weight_Daily  \n",
       "0      1251507.966   1564384.957  \n",
       "1      1733950.349   2167437.936  \n",
       "2      1529197.383   1911496.729  \n",
       "3      1711569.424   2139461.780  \n",
       "4      1267270.265   1584087.831  \n",
       "\n",
       "[5 rows x 210 columns]"
      ]
     },
     "execution_count": 47,
     "metadata": {},
     "output_type": "execute_result"
    }
   ],
   "source": [
    "dataset = pd.read_csv('C:/Users/Krishna Veer Singh/Downloads/Winton_Stock_Prediction/train.csv')\n",
    "dataset.fillna(dataset.mean(axis=0), inplace=True)\n",
    "dataset.head()"
   ]
  },
  {
   "cell_type": "code",
   "execution_count": 48,
   "metadata": {
    "colab": {},
    "colab_type": "code",
    "id": "qcEwrmJF1YlE"
   },
   "outputs": [],
   "source": [
    "X = dataset.iloc[:,0:27]\n",
    "Y = dataset.iloc[:,85]"
   ]
  },
  {
   "cell_type": "code",
   "execution_count": 49,
   "metadata": {
    "colab": {
     "base_uri": "https://localhost:8080/",
     "height": 215
    },
    "colab_type": "code",
    "id": "XSN2-o081ank",
    "outputId": "140b238d-58ce-4ca3-f1a1-25747ed1dfa4"
   },
   "outputs": [
    {
     "data": {
      "text/html": [
       "<div>\n",
       "<style scoped>\n",
       "    .dataframe tbody tr th:only-of-type {\n",
       "        vertical-align: middle;\n",
       "    }\n",
       "\n",
       "    .dataframe tbody tr th {\n",
       "        vertical-align: top;\n",
       "    }\n",
       "\n",
       "    .dataframe thead th {\n",
       "        text-align: right;\n",
       "    }\n",
       "</style>\n",
       "<table border=\"1\" class=\"dataframe\">\n",
       "  <thead>\n",
       "    <tr style=\"text-align: right;\">\n",
       "      <th></th>\n",
       "      <th>Feature_1</th>\n",
       "      <th>Feature_2</th>\n",
       "      <th>Feature_3</th>\n",
       "      <th>Feature_4</th>\n",
       "      <th>Feature_5</th>\n",
       "      <th>Feature_6</th>\n",
       "      <th>Feature_7</th>\n",
       "      <th>Feature_8</th>\n",
       "      <th>Feature_9</th>\n",
       "      <th>Feature_10</th>\n",
       "      <th>...</th>\n",
       "      <th>Feature_18</th>\n",
       "      <th>Feature_19</th>\n",
       "      <th>Feature_20</th>\n",
       "      <th>Feature_21</th>\n",
       "      <th>Feature_22</th>\n",
       "      <th>Feature_23</th>\n",
       "      <th>Feature_24</th>\n",
       "      <th>Feature_25</th>\n",
       "      <th>Ret_MinusTwo</th>\n",
       "      <th>Ret_MinusOne</th>\n",
       "    </tr>\n",
       "  </thead>\n",
       "  <tbody>\n",
       "    <tr>\n",
       "      <th>0</th>\n",
       "      <td>3.59025</td>\n",
       "      <td>-0.117558</td>\n",
       "      <td>0.558392</td>\n",
       "      <td>0.405572</td>\n",
       "      <td>8</td>\n",
       "      <td>0.430972</td>\n",
       "      <td>75751</td>\n",
       "      <td>0.2254</td>\n",
       "      <td>11.0</td>\n",
       "      <td>4.744703</td>\n",
       "      <td>...</td>\n",
       "      <td>0.803059</td>\n",
       "      <td>-0.925463</td>\n",
       "      <td>2.0</td>\n",
       "      <td>0.605593</td>\n",
       "      <td>-0.489492</td>\n",
       "      <td>0.799833</td>\n",
       "      <td>-1.209290</td>\n",
       "      <td>-0.329675</td>\n",
       "      <td>0.055275</td>\n",
       "      <td>-0.010770</td>\n",
       "    </tr>\n",
       "    <tr>\n",
       "      <th>1</th>\n",
       "      <td>3.59025</td>\n",
       "      <td>-0.117558</td>\n",
       "      <td>0.558392</td>\n",
       "      <td>0.405572</td>\n",
       "      <td>3</td>\n",
       "      <td>0.388896</td>\n",
       "      <td>17369</td>\n",
       "      <td>0.0166</td>\n",
       "      <td>13.0</td>\n",
       "      <td>4.744703</td>\n",
       "      <td>...</td>\n",
       "      <td>0.917958</td>\n",
       "      <td>-0.897067</td>\n",
       "      <td>9.0</td>\n",
       "      <td>0.886205</td>\n",
       "      <td>-0.151805</td>\n",
       "      <td>1.239856</td>\n",
       "      <td>0.953424</td>\n",
       "      <td>-0.709462</td>\n",
       "      <td>0.009748</td>\n",
       "      <td>0.002987</td>\n",
       "    </tr>\n",
       "    <tr>\n",
       "      <th>2</th>\n",
       "      <td>3.59025</td>\n",
       "      <td>-0.696727</td>\n",
       "      <td>0.739591</td>\n",
       "      <td>-0.167928</td>\n",
       "      <td>9</td>\n",
       "      <td>0.471947</td>\n",
       "      <td>8277</td>\n",
       "      <td>0.3650</td>\n",
       "      <td>9.0</td>\n",
       "      <td>5.000000</td>\n",
       "      <td>...</td>\n",
       "      <td>1.799813</td>\n",
       "      <td>-1.603488</td>\n",
       "      <td>3.0</td>\n",
       "      <td>0.605593</td>\n",
       "      <td>0.389061</td>\n",
       "      <td>1.728096</td>\n",
       "      <td>-1.798090</td>\n",
       "      <td>-1.019370</td>\n",
       "      <td>0.003077</td>\n",
       "      <td>0.006181</td>\n",
       "    </tr>\n",
       "    <tr>\n",
       "      <th>3</th>\n",
       "      <td>3.59025</td>\n",
       "      <td>-0.694350</td>\n",
       "      <td>1.568248</td>\n",
       "      <td>0.479073</td>\n",
       "      <td>5</td>\n",
       "      <td>0.120653</td>\n",
       "      <td>22508</td>\n",
       "      <td>0.2654</td>\n",
       "      <td>13.0</td>\n",
       "      <td>5.000000</td>\n",
       "      <td>...</td>\n",
       "      <td>1.565036</td>\n",
       "      <td>-1.205438</td>\n",
       "      <td>7.0</td>\n",
       "      <td>1.148738</td>\n",
       "      <td>-2.440799</td>\n",
       "      <td>1.551425</td>\n",
       "      <td>-1.788725</td>\n",
       "      <td>-0.329675</td>\n",
       "      <td>0.000984</td>\n",
       "      <td>0.014106</td>\n",
       "    </tr>\n",
       "    <tr>\n",
       "      <th>4</th>\n",
       "      <td>6.00000</td>\n",
       "      <td>-1.736489</td>\n",
       "      <td>2.765531</td>\n",
       "      <td>1.245280</td>\n",
       "      <td>7</td>\n",
       "      <td>4.866985</td>\n",
       "      <td>22423</td>\n",
       "      <td>0.2138</td>\n",
       "      <td>13.0</td>\n",
       "      <td>4.000000</td>\n",
       "      <td>...</td>\n",
       "      <td>-3.208872</td>\n",
       "      <td>-1.102189</td>\n",
       "      <td>7.0</td>\n",
       "      <td>3.381040</td>\n",
       "      <td>1.732708</td>\n",
       "      <td>1.965189</td>\n",
       "      <td>-5.993092</td>\n",
       "      <td>3.219820</td>\n",
       "      <td>-0.018224</td>\n",
       "      <td>0.011065</td>\n",
       "    </tr>\n",
       "  </tbody>\n",
       "</table>\n",
       "<p>5 rows × 27 columns</p>\n",
       "</div>"
      ],
      "text/plain": [
       "   Feature_1  Feature_2  Feature_3  Feature_4  Feature_5  Feature_6  \\\n",
       "0    3.59025  -0.117558   0.558392   0.405572          8   0.430972   \n",
       "1    3.59025  -0.117558   0.558392   0.405572          3   0.388896   \n",
       "2    3.59025  -0.696727   0.739591  -0.167928          9   0.471947   \n",
       "3    3.59025  -0.694350   1.568248   0.479073          5   0.120653   \n",
       "4    6.00000  -1.736489   2.765531   1.245280          7   4.866985   \n",
       "\n",
       "   Feature_7  Feature_8  Feature_9  Feature_10  ...  Feature_18  Feature_19  \\\n",
       "0      75751     0.2254       11.0    4.744703  ...    0.803059   -0.925463   \n",
       "1      17369     0.0166       13.0    4.744703  ...    0.917958   -0.897067   \n",
       "2       8277     0.3650        9.0    5.000000  ...    1.799813   -1.603488   \n",
       "3      22508     0.2654       13.0    5.000000  ...    1.565036   -1.205438   \n",
       "4      22423     0.2138       13.0    4.000000  ...   -3.208872   -1.102189   \n",
       "\n",
       "   Feature_20  Feature_21  Feature_22  Feature_23  Feature_24  Feature_25  \\\n",
       "0         2.0    0.605593   -0.489492    0.799833   -1.209290   -0.329675   \n",
       "1         9.0    0.886205   -0.151805    1.239856    0.953424   -0.709462   \n",
       "2         3.0    0.605593    0.389061    1.728096   -1.798090   -1.019370   \n",
       "3         7.0    1.148738   -2.440799    1.551425   -1.788725   -0.329675   \n",
       "4         7.0    3.381040    1.732708    1.965189   -5.993092    3.219820   \n",
       "\n",
       "   Ret_MinusTwo  Ret_MinusOne  \n",
       "0      0.055275     -0.010770  \n",
       "1      0.009748      0.002987  \n",
       "2      0.003077      0.006181  \n",
       "3      0.000984      0.014106  \n",
       "4     -0.018224      0.011065  \n",
       "\n",
       "[5 rows x 27 columns]"
      ]
     },
     "execution_count": 49,
     "metadata": {},
     "output_type": "execute_result"
    }
   ],
   "source": [
    "X.head()"
   ]
  },
  {
   "cell_type": "code",
   "execution_count": 50,
   "metadata": {
    "colab": {
     "base_uri": "https://localhost:8080/",
     "height": 34
    },
    "colab_type": "code",
    "id": "jHzVQbdk1j2p",
    "outputId": "01d48661-97da-4957-c75e-0454310b1a03"
   },
   "outputs": [
    {
     "data": {
      "text/plain": [
       "(40000, 27)"
      ]
     },
     "execution_count": 50,
     "metadata": {},
     "output_type": "execute_result"
    }
   ],
   "source": [
    "X.shape"
   ]
  },
  {
   "cell_type": "code",
   "execution_count": 51,
   "metadata": {
    "colab": {
     "base_uri": "https://localhost:8080/",
     "height": 118
    },
    "colab_type": "code",
    "id": "RXczoPMd1lLX",
    "outputId": "c02d290a-14eb-4aa7-cb6e-0e49d4dfa663"
   },
   "outputs": [
    {
     "data": {
      "text/plain": [
       "0   -0.000723\n",
       "1   -0.000228\n",
       "2   -0.000144\n",
       "3   -0.000294\n",
       "4    0.000004\n",
       "Name: Ret_60, dtype: float64"
      ]
     },
     "execution_count": 51,
     "metadata": {},
     "output_type": "execute_result"
    }
   ],
   "source": [
    "Y.head()"
   ]
  },
  {
   "cell_type": "code",
   "execution_count": 52,
   "metadata": {
    "colab": {
     "base_uri": "https://localhost:8080/",
     "height": 34
    },
    "colab_type": "code",
    "id": "fYkPkE6f1mj4",
    "outputId": "4ffb3eef-2d16-42dc-ad7b-1c2d76681939"
   },
   "outputs": [
    {
     "data": {
      "text/plain": [
       "(40000,)"
      ]
     },
     "execution_count": 52,
     "metadata": {},
     "output_type": "execute_result"
    }
   ],
   "source": [
    "Y.shape"
   ]
  },
  {
   "cell_type": "code",
   "execution_count": 53,
   "metadata": {
    "colab": {},
    "colab_type": "code",
    "id": "VH-J0sB01od7"
   },
   "outputs": [
    {
     "name": "stderr",
     "output_type": "stream",
     "text": [
      "D:\\E\\anaconda\\lib\\site-packages\\sklearn\\preprocessing\\data.py:334: DataConversionWarning: Data with input dtype int64, float64 were all converted to float64 by MinMaxScaler.\n",
      "  return self.partial_fit(X, y)\n"
     ]
    }
   ],
   "source": [
    "scaler_x = MinMaxScaler()\n",
    "scaler_x.fit(X)\n",
    "xscale=scaler_x.transform(X)"
   ]
  },
  {
   "cell_type": "code",
   "execution_count": 54,
   "metadata": {
    "colab": {
     "base_uri": "https://localhost:8080/",
     "height": 306
    },
    "colab_type": "code",
    "id": "VBkMQw731vMc",
    "outputId": "ac25229d-9d7e-4cdf-a6d7-2b277bef4a36"
   },
   "outputs": [
    {
     "name": "stdout",
     "output_type": "stream",
     "text": [
      "_________________________________________________________________\n",
      "Layer (type)                 Output Shape              Param #   \n",
      "=================================================================\n",
      "dense_6 (Dense)              (None, 12)                336       \n",
      "_________________________________________________________________\n",
      "dense_7 (Dense)              (None, 8)                 104       \n",
      "_________________________________________________________________\n",
      "dense_8 (Dense)              (None, 1)                 9         \n",
      "=================================================================\n",
      "Total params: 449\n",
      "Trainable params: 449\n",
      "Non-trainable params: 0\n",
      "_________________________________________________________________\n"
     ]
    }
   ],
   "source": [
    "model = Sequential()\n",
    "model.add(Dense(12, input_dim=27, kernel_initializer='normal'))\n",
    "model.add(Dense(8, activation='relu'))\n",
    "model.add(Dense(1, activation='linear'))\n",
    "model.summary()"
   ]
  },
  {
   "cell_type": "code",
   "execution_count": 55,
   "metadata": {
    "colab": {},
    "colab_type": "code",
    "id": "HqP0pJVA1yNk"
   },
   "outputs": [],
   "source": [
    "model.compile(loss='mse', optimizer='adam', metrics=['mse','mae'])"
   ]
  },
  {
   "cell_type": "code",
   "execution_count": 56,
   "metadata": {
    "colab": {
     "base_uri": "https://localhost:8080/",
     "height": 1767
    },
    "colab_type": "code",
    "id": "vzL2zgdk11HU",
    "outputId": "7fdae6b9-6dae-4726-f9ae-0664f3c3b3d8"
   },
   "outputs": [
    {
     "name": "stdout",
     "output_type": "stream",
     "text": [
      "Epoch 1/10\n",
      "40000/40000 [==============================] - 3s 66us/step - loss: 9.9734e-05 - mean_squared_error: 9.9734e-05 - mean_absolute_error: 0.0019\n",
      "Epoch 2/10\n",
      "40000/40000 [==============================] - 1s 25us/step - loss: 8.9499e-07 - mean_squared_error: 8.9499e-07 - mean_absolute_error: 5.4039e-04\n",
      "Epoch 3/10\n",
      "40000/40000 [==============================] - 1s 25us/step - loss: 8.8272e-07 - mean_squared_error: 8.8272e-07 - mean_absolute_error: 5.4138e-04\n",
      "Epoch 4/10\n",
      "40000/40000 [==============================] - 1s 25us/step - loss: 8.7931e-07 - mean_squared_error: 8.7931e-07 - mean_absolute_error: 5.4087e-04\n",
      "Epoch 5/10\n",
      "40000/40000 [==============================] - 1s 25us/step - loss: 8.8327e-07 - mean_squared_error: 8.8327e-07 - mean_absolute_error: 5.4589e-04\n",
      "Epoch 6/10\n",
      "40000/40000 [==============================] - 1s 25us/step - loss: 8.9078e-07 - mean_squared_error: 8.9078e-07 - mean_absolute_error: 5.5305e-04\n",
      "Epoch 7/10\n",
      "40000/40000 [==============================] - 1s 30us/step - loss: 8.8508e-07 - mean_squared_error: 8.8508e-07 - mean_absolute_error: 5.4740e-04\n",
      "Epoch 8/10\n",
      "40000/40000 [==============================] - 1s 26us/step - loss: 8.8979e-07 - mean_squared_error: 8.8979e-07 - mean_absolute_error: 5.5310e-04\n",
      "Epoch 9/10\n",
      "40000/40000 [==============================] - 1s 25us/step - loss: 8.9783e-07 - mean_squared_error: 8.9783e-07 - mean_absolute_error: 5.6172e-04\n",
      "Epoch 10/10\n",
      "40000/40000 [==============================] - 1s 25us/step - loss: 8.9943e-07 - mean_squared_error: 8.9943e-07 - mean_absolute_error: 5.6482e-04\n"
     ]
    }
   ],
   "source": [
    "history = model.fit(xscale, Y,epochs=10, batch_size=50)"
   ]
  },
  {
   "cell_type": "code",
   "execution_count": 57,
   "metadata": {
    "colab": {
     "base_uri": "https://localhost:8080/",
     "height": 295
    },
    "colab_type": "code",
    "id": "-tHKJACl16YG",
    "outputId": "184adad4-af49-4e64-f468-1ad1f35715ac"
   },
   "outputs": [
    {
     "data": {
      "image/png": "[encoded data removed]",
      "text/plain": [
       "<Figure size 432x288 with 1 Axes>"
      ]
     },
     "metadata": {
      "needs_background": "light"
     },
     "output_type": "display_data"
    }
   ],
   "source": [
    "plt.plot(history.history['loss'])\n",
    "plt.title('model loss')\n",
    "plt.ylabel('loss')\n",
    "plt.xlabel('epoch')\n",
    "plt.legend(['train'], loc='upper left')\n",
    "plt.show()"
   ]
  },
  {
   "cell_type": "code",
   "execution_count": 58,
   "metadata": {
    "colab": {},
    "colab_type": "code",
    "id": "TszEgxy-19uC"
   },
   "outputs": [],
   "source": [
    "dataset2 = pd.read_csv('C:/Users/Krishna Veer Singh/Downloads/Winton_Stock_Prediction/test_2.csv')\n",
    "dataset2.fillna(dataset.mean(axis=0), inplace=True)"
   ]
  },
  {
   "cell_type": "code",
   "execution_count": 59,
   "metadata": {
    "colab": {},
    "colab_type": "code",
    "id": "SAzPhjSg2Bme"
   },
   "outputs": [
    {
     "name": "stderr",
     "output_type": "stream",
     "text": [
      "D:\\E\\anaconda\\lib\\site-packages\\sklearn\\preprocessing\\data.py:334: DataConversionWarning: Data with input dtype int64, float64 were all converted to float64 by MinMaxScaler.\n",
      "  return self.partial_fit(X, y)\n"
     ]
    },
    {
     "data": {
      "text/plain": [
       "(120000, 27)"
      ]
     },
     "execution_count": 59,
     "metadata": {},
     "output_type": "execute_result"
    }
   ],
   "source": [
    "Xnew = dataset2.iloc[:,0:27] \n",
    "ynew = dataset2.iloc[:,85]\n",
    "scaler_x= MinMaxScaler()\n",
    "scaler_x.fit(Xnew)\n",
    "xscale=scaler_x.transform(Xnew)\n",
    "Ynew = model.predict(xscale)\n",
    "Xnew.shape"
   ]
  },
  {
   "cell_type": "code",
   "execution_count": 60,
   "metadata": {
    "colab": {
     "base_uri": "https://localhost:8080/",
     "height": 235
    },
    "colab_type": "code",
    "id": "F8Kz0CITLQKb",
    "outputId": "667bcf26-5958-4212-babf-6357ec6a2699"
   },
   "outputs": [
    {
     "data": {
      "text/plain": [
       "array([[0.        , 0.63767922, 0.49419209, ..., 0.26685367, 0.37411451,\n",
       "        0.23967485],\n",
       "       [0.28780553, 0.4410457 , 0.6016862 , ..., 0.21975195, 0.39408551,\n",
       "        0.2328154 ],\n",
       "       [0.28780553, 0.37808232, 0.62049203, ..., 0.2844762 , 0.35567051,\n",
       "        0.21862685],\n",
       "       ...,\n",
       "       [0.        , 0.31668685, 0.59710312, ..., 0.17318527, 0.36749732,\n",
       "        0.21286253],\n",
       "       [0.22222222, 0.34397116, 0.6690157 , ..., 0.20300628, 0.37690635,\n",
       "        0.22924215],\n",
       "       [0.28780553, 0.4410457 , 0.51376166, ..., 0.2919293 , 0.38575556,\n",
       "        0.24121012]])"
      ]
     },
     "execution_count": 60,
     "metadata": {},
     "output_type": "execute_result"
    }
   ],
   "source": [
    "xscale"
   ]
  },
  {
   "cell_type": "code",
   "execution_count": 61,
   "metadata": {
    "colab": {
     "base_uri": "https://localhost:8080/",
     "height": 34
    },
    "colab_type": "code",
    "id": "sFhxmu_JLnEF",
    "outputId": "2360d227-9663-40bd-9cec-12beaadc1e91"
   },
   "outputs": [
    {
     "data": {
      "text/plain": [
       "(120000, 27)"
      ]
     },
     "execution_count": 61,
     "metadata": {},
     "output_type": "execute_result"
    }
   ],
   "source": [
    "xscale.shape"
   ]
  },
  {
   "cell_type": "code",
   "execution_count": 62,
   "metadata": {
    "colab": {
     "base_uri": "https://localhost:8080/",
     "height": 134
    },
    "colab_type": "code",
    "id": "WrKIvd0qLQP7",
    "outputId": "4c6dfc1d-9372-4907-e32b-b7c78a8f11af"
   },
   "outputs": [
    {
     "data": {
      "text/plain": [
       "array([[-4.4462249e-05],\n",
       "       [-4.9278024e-05],\n",
       "       [-4.9278024e-05],\n",
       "       ...,\n",
       "       [-4.9278024e-05],\n",
       "       [ 2.1908927e-05],\n",
       "       [-4.9278024e-05]], dtype=float32)"
      ]
     },
     "execution_count": 62,
     "metadata": {},
     "output_type": "execute_result"
    }
   ],
   "source": [
    "Ynew"
   ]
  },
  {
   "cell_type": "code",
   "execution_count": 63,
   "metadata": {
    "colab": {
     "base_uri": "https://localhost:8080/",
     "height": 34
    },
    "colab_type": "code",
    "id": "38YNdRtsLtDL",
    "outputId": "73ecedef-3264-4526-8628-b507b8e4d621"
   },
   "outputs": [
    {
     "data": {
      "text/plain": [
       "(120000, 1)"
      ]
     },
     "execution_count": 63,
     "metadata": {},
     "output_type": "execute_result"
    }
   ],
   "source": [
    "Ynew.shape"
   ]
  },
  {
   "cell_type": "code",
   "execution_count": 64,
   "metadata": {
    "colab": {
     "base_uri": "https://localhost:8080/",
     "height": 413
    },
    "colab_type": "code",
    "id": "Z-yIuGx12DZq",
    "outputId": "d9f1da70-8065-4366-9c03-1f32d31e96a8"
   },
   "outputs": [
    {
     "data": {
      "image/png": "[encoded data removed]",
      "text/plain": [
       "<Figure size 432x288 with 1 Axes>"
      ]
     },
     "metadata": {
      "needs_background": "light"
     },
     "output_type": "display_data"
    },
    {
     "data": {
      "text/plain": [
       "array([[-4.4462249e-05],\n",
       "       [-4.9278024e-05],\n",
       "       [-4.9278024e-05],\n",
       "       ...,\n",
       "       [-4.9278024e-05],\n",
       "       [ 2.1908927e-05],\n",
       "       [-4.9278024e-05]], dtype=float32)"
      ]
     },
     "execution_count": 64,
     "metadata": {},
     "output_type": "execute_result"
    }
   ],
   "source": [
    "plt.plot(Ynew)\n",
    "plt.plot(ynew)\n",
    "plt.title('model loss')\n",
    "plt.ylabel('Value')\n",
    "plt.xlabel('Data Points')\n",
    "plt.legend(['Predicted','Real'], loc='upper left')\n",
    "plt.show()\n",
    "Ynew\n"
   ]
  },
  {
   "cell_type": "code",
   "execution_count": 65,
   "metadata": {
    "colab": {},
    "colab_type": "code",
    "id": "PEPhCB2Czyin"
   },
   "outputs": [],
   "source": [
    "import xgboost as xgb\n",
    "from sklearn.metrics import accuracy_score\n"
   ]
  },
  {
   "cell_type": "code",
   "execution_count": 66,
   "metadata": {
    "colab": {},
    "colab_type": "code",
    "id": "ZUGR6hi62FxC"
   },
   "outputs": [],
   "source": [
    "n_folds = 5\n",
    "\n",
    "def rmsle_cv(model):\n",
    "    rmse= numpy.sqrt(-cross_val_score(model, X, Y, scoring=\"neg_mean_squared_error\"))\n",
    "    return(rmse)"
   ]
  },
  {
   "cell_type": "code",
   "execution_count": 67,
   "metadata": {
    "colab": {},
    "colab_type": "code",
    "id": "ETlyjTdZzhxG"
   },
   "outputs": [],
   "source": [
    "model_xgb = xgb.XGBRegressor(colsample_bytree=0.4603, gamma=0.0468, \n",
    "                             learning_rate=0.05, max_depth=3, \n",
    "                             min_child_weight=1.7817, n_estimators=2200,\n",
    "                             reg_alpha=0.4640, reg_lambda=0.8571,\n",
    "                             subsample=0.5213, silent=1,\n",
    "                             random_state =7, nthread = -1)\n"
   ]
  },
  {
   "cell_type": "code",
   "execution_count": 68,
   "metadata": {
    "colab": {
     "base_uri": "https://localhost:8080/",
     "height": 205
    },
    "colab_type": "code",
    "id": "_AG9EvwfzpQk",
    "outputId": "1eadda28-160b-479d-e1b1-ebdcbc04c382"
   },
   "outputs": [
    {
     "name": "stderr",
     "output_type": "stream",
     "text": [
      "D:\\E\\anaconda\\lib\\site-packages\\sklearn\\model_selection\\_split.py:2053: FutureWarning: You should specify a value for 'cv' instead of relying on the default value. The default value will change from 3 to 5 in version 0.22.\n",
      "  warnings.warn(CV_WARNING, FutureWarning)\n",
      "D:\\E\\anaconda\\lib\\site-packages\\xgboost\\core.py:587: FutureWarning: Series.base is deprecated and will be removed in a future version\n",
      "  if getattr(data, 'base', None) is not None and \\\n",
      "D:\\E\\anaconda\\lib\\site-packages\\xgboost\\core.py:587: FutureWarning: Series.base is deprecated and will be removed in a future version\n",
      "  if getattr(data, 'base', None) is not None and \\\n",
      "D:\\E\\anaconda\\lib\\site-packages\\xgboost\\core.py:587: FutureWarning: Series.base is deprecated and will be removed in a future version\n",
      "  if getattr(data, 'base', None) is not None and \\\n"
     ]
    },
    {
     "name": "stdout",
     "output_type": "stream",
     "text": [
      "Xgboost score: 0.0009 (0.0000)\n",
      "\n"
     ]
    }
   ],
   "source": [
    "score = rmsle_cv(model_xgb)\n",
    "print(\"Xgboost score: {:.4f} ({:.4f})\\n\".format(score.mean(), score.std()))\n",
    "\n",
    "y_pred = model.predict(xscale)\n",
    "predictions = [numpy.round(value) for value in y_pred]"
   ]
  },
  {
   "cell_type": "code",
   "execution_count": 69,
   "metadata": {
    "colab": {},
    "colab_type": "code",
    "id": "4VWoYmMbrPVg"
   },
   "outputs": [],
   "source": [
    "import numpy as np\n",
    "import matplotlib.pyplot as plt\n",
    "import pandas as pd"
   ]
  },
  {
   "cell_type": "code",
   "execution_count": 70,
   "metadata": {
    "colab": {},
    "colab_type": "code",
    "id": "Usg8mi3rsEH2"
   },
   "outputs": [],
   "source": [
    "xscale = np.reshape(xscale, (xscale.shape[0], xscale.shape[1], 1))"
   ]
  },
  {
   "cell_type": "code",
   "execution_count": 71,
   "metadata": {
    "colab": {},
    "colab_type": "code",
    "id": "_IzMwH4tsJko"
   },
   "outputs": [],
   "source": [
    "from keras.models import Sequential\n",
    "from keras.layers import Dense\n",
    "from keras.layers import LSTM\n",
    "from keras.layers import Dropout\n"
   ]
  },
  {
   "cell_type": "code",
   "execution_count": 72,
   "metadata": {
    "colab": {
     "base_uri": "https://localhost:8080/",
     "height": 87
    },
    "colab_type": "code",
    "id": "R8K2PCHjrLIi",
    "outputId": "342cdb73-3be4-47d0-80cb-743ce23141fb"
   },
   "outputs": [],
   "source": [
    "regressor = Sequential()\n",
    "\n",
    "regressor.add(LSTM(units = 10, return_sequences = True, input_shape = (xscale.shape[1], 1)))\n",
    "regressor.add(Dropout(0.025))\n",
    "\n",
    "regressor.add(LSTM(units = 10, return_sequences = True))\n",
    "regressor.add(Dropout(0.025))\n",
    "\n",
    "regressor.add(LSTM(units = 10, return_sequences = True))\n",
    "regressor.add(Dropout(0.025))\n",
    "\n",
    "regressor.add(LSTM(units = 10))\n",
    "regressor.add(Dropout(0.025))\n",
    "\n",
    "regressor.add(Dense(units = 1))\n"
   ]
  },
  {
   "cell_type": "code",
   "execution_count": 79,
   "metadata": {
    "colab": {},
    "colab_type": "code",
    "id": "zX3OvJ8H_m1P"
   },
   "outputs": [],
   "source": [
    "regressor.compile(optimizer = 'adam', loss = 'mean_squared_error',metrics=['mse','mae'])"
   ]
  },
  {
   "cell_type": "code",
   "execution_count": 80,
   "metadata": {
    "colab": {
     "base_uri": "https://localhost:8080/",
     "height": 3377
    },
    "colab_type": "code",
    "id": "X32Xik9Trhwe",
    "outputId": "f05a3a42-45fb-4013-db5f-56a774afc2f0"
   },
   "outputs": [
    {
     "name": "stdout",
     "output_type": "stream",
     "text": [
      "Epoch 1/5\n",
      "120000/120000 [==============================] - 162s 1ms/step - loss: 1.0190e-06 - mean_squared_error: 1.0190e-06 - mean_absolute_error: 6.1870e-04\n",
      "Epoch 2/5\n",
      "120000/120000 [==============================] - 160s 1ms/step - loss: 9.7108e-07 - mean_squared_error: 9.7108e-07 - mean_absolute_error: 5.9210e-04\n",
      "Epoch 3/5\n",
      "120000/120000 [==============================] - 156s 1ms/step - loss: 9.5905e-07 - mean_squared_error: 9.5905e-07 - mean_absolute_error: 5.8275e-040s - loss: 9.5990e-07 - mean_squared_error: 9.5990e-07 - mea\n",
      "Epoch 4/5\n",
      "120000/120000 [==============================] - 165s 1ms/step - loss: 9.5416e-07 - mean_squared_error: 9.5416e-07 - mean_absolute_error: 5.7778e-04\n",
      "Epoch 5/5\n",
      "120000/120000 [==============================] - 161s 1ms/step - loss: 9.4868e-07 - mean_squared_error: 9.4868e-07 - mean_absolute_error: 5.7486e-04\n"
     ]
    }
   ],
   "source": [
    "regressor.fit(xscale, ynew, epochs = 5, batch_size = 50)\n",
    "xscale= np.reshape(xscale, (xscale.shape[0], xscale.shape[1], 1))\n",
    "predicted_stock_price = regressor.predict(xscale)\n"
   ]
  },
  {
   "cell_type": "code",
   "execution_count": 81,
   "metadata": {
    "colab": {
     "base_uri": "https://localhost:8080/",
     "height": 15382
    },
    "colab_type": "code",
    "id": "WE2BofHdsIf_",
    "outputId": "2049df22-a5e4-4835-92ed-0484dc64d2b7"
   },
   "outputs": [
    {
     "data": {
      "image/png": "[encoded data removed]",
      "text/plain": [
       "<Figure size 432x288 with 1 Axes>"
      ]
     },
     "metadata": {
      "needs_background": "light"
     },
     "output_type": "display_data"
    },
    {
     "data": {
      "text/plain": [
       "array([[-1.5357317e-06],\n",
       "       [-1.5847909e-06],\n",
       "       [-1.5811443e-06],\n",
       "       ...,\n",
       "       [-1.5371421e-06],\n",
       "       [-1.5884139e-06],\n",
       "       [-1.6578866e-06]], dtype=float32)"
      ]
     },
     "execution_count": 81,
     "metadata": {},
     "output_type": "execute_result"
    }
   ],
   "source": [
    "plt.plot(predicted_stock_price)\n",
    "plt.plot(ynew)\n",
    "plt.title('model loss')\n",
    "plt.ylabel('Value')\n",
    "plt.xlabel('Data Points')\n",
    "plt.legend(['Predicted','Real'], loc='upper left')\n",
    "plt.show()\n",
    "\n",
    "predicted_stock_price\n"
   ]
  },
  {
   "cell_type": "code",
   "execution_count": 82,
   "metadata": {
    "colab": {
     "base_uri": "https://localhost:8080/",
     "height": 34
    },
    "colab_type": "code",
    "id": "cPAJVPDrAa7b",
    "outputId": "1224ad17-61f2-4949-e622-ee5cb2bc1bf6"
   },
   "outputs": [
    {
     "data": {
      "text/plain": [
       "(40000, 210)"
      ]
     },
     "execution_count": 82,
     "metadata": {},
     "output_type": "execute_result"
    }
   ],
   "source": [
    "dataset.shape"
   ]
  },
  {
   "cell_type": "code",
   "execution_count": 83,
   "metadata": {
    "colab": {
     "base_uri": "https://localhost:8080/",
     "height": 118
    },
    "colab_type": "code",
    "id": "h-OaAsLrA4IQ",
    "outputId": "68e95c08-d9b4-456d-b03d-5a1d5f3eed8c"
   },
   "outputs": [
    {
     "data": {
      "text/plain": [
       "Index(['Ret_2', 'Ret_3', 'Ret_4', 'Ret_5', 'Ret_6', 'Ret_7', 'Ret_8', 'Ret_9',\n",
       "       'Ret_10', 'Ret_11',\n",
       "       ...\n",
       "       'Ret_170', 'Ret_171', 'Ret_172', 'Ret_173', 'Ret_174', 'Ret_175',\n",
       "       'Ret_176', 'Ret_177', 'Ret_178', 'Ret_179'],\n",
       "      dtype='object', length=178)"
      ]
     },
     "execution_count": 83,
     "metadata": {},
     "output_type": "execute_result"
    }
   ],
   "source": [
    "cols = dataset.columns\n",
    "index = cols[27:205]\n",
    "index"
   ]
  },
  {
   "cell_type": "code",
   "execution_count": 84,
   "metadata": {
    "colab": {
     "base_uri": "https://localhost:8080/",
     "height": 118
    },
    "colab_type": "code",
    "id": "R5EvPPtXA6CM",
    "outputId": "9c0ad3c7-7a52-4828-cd82-7789549ddee9"
   },
   "outputs": [
    {
     "data": {
      "text/plain": [
       "Index(['Ret_3', 'Ret_4', 'Ret_5', 'Ret_6', 'Ret_7', 'Ret_8', 'Ret_9', 'Ret_10',\n",
       "       'Ret_11', 'Ret_12',\n",
       "       ...\n",
       "       'Ret_171', 'Ret_172', 'Ret_173', 'Ret_174', 'Ret_175', 'Ret_176',\n",
       "       'Ret_177', 'Ret_178', 'Ret_179', 'Ret_180'],\n",
       "      dtype='object', length=178)"
      ]
     },
     "execution_count": 84,
     "metadata": {},
     "output_type": "execute_result"
    }
   ],
   "source": [
    "\n",
    "returns = cols[28:206]\n",
    "\n",
    "returns"
   ]
  },
  {
   "cell_type": "code",
   "execution_count": 85,
   "metadata": {
    "colab": {},
    "colab_type": "code",
    "id": "8KlvoF5A7I_M"
   },
   "outputs": [],
   "source": [
    "for i in range(118):\n",
    "  dataset[returns[i]] = dataset[returns[i]] +dataset[index[i]]"
   ]
  },
  {
   "cell_type": "code",
   "execution_count": 86,
   "metadata": {
    "colab": {
     "base_uri": "https://localhost:8080/",
     "height": 328
    },
    "colab_type": "code",
    "id": "ZTlxOasY7JmS",
    "outputId": "5a19229a-0288-42e4-df7e-e13eec2df2bf"
   },
   "outputs": [
    {
     "data": {
      "text/html": [
       "<div>\n",
       "<style scoped>\n",
       "    .dataframe tbody tr th:only-of-type {\n",
       "        vertical-align: middle;\n",
       "    }\n",
       "\n",
       "    .dataframe tbody tr th {\n",
       "        vertical-align: top;\n",
       "    }\n",
       "\n",
       "    .dataframe thead th {\n",
       "        text-align: right;\n",
       "    }\n",
       "</style>\n",
       "<table border=\"1\" class=\"dataframe\">\n",
       "  <thead>\n",
       "    <tr style=\"text-align: right;\">\n",
       "      <th></th>\n",
       "      <th>Feature_1</th>\n",
       "      <th>Feature_2</th>\n",
       "      <th>Feature_3</th>\n",
       "      <th>Feature_4</th>\n",
       "      <th>Feature_5</th>\n",
       "      <th>Feature_6</th>\n",
       "      <th>Feature_7</th>\n",
       "      <th>Feature_8</th>\n",
       "      <th>Feature_9</th>\n",
       "      <th>Feature_10</th>\n",
       "      <th>...</th>\n",
       "      <th>Ret_175</th>\n",
       "      <th>Ret_176</th>\n",
       "      <th>Ret_177</th>\n",
       "      <th>Ret_178</th>\n",
       "      <th>Ret_179</th>\n",
       "      <th>Ret_180</th>\n",
       "      <th>Ret_PlusOne</th>\n",
       "      <th>Ret_PlusTwo</th>\n",
       "      <th>Weight_Intraday</th>\n",
       "      <th>Weight_Daily</th>\n",
       "    </tr>\n",
       "  </thead>\n",
       "  <tbody>\n",
       "    <tr>\n",
       "      <th>0</th>\n",
       "      <td>3.59025</td>\n",
       "      <td>-0.117558</td>\n",
       "      <td>0.558392</td>\n",
       "      <td>0.405572</td>\n",
       "      <td>8</td>\n",
       "      <td>0.430972</td>\n",
       "      <td>75751</td>\n",
       "      <td>0.2254</td>\n",
       "      <td>11.0</td>\n",
       "      <td>4.744703</td>\n",
       "      <td>...</td>\n",
       "      <td>-0.002688</td>\n",
       "      <td>0.002246</td>\n",
       "      <td>-0.000838</td>\n",
       "      <td>-6.953220e-04</td>\n",
       "      <td>0.000003</td>\n",
       "      <td>-0.001974</td>\n",
       "      <td>-0.019512</td>\n",
       "      <td>0.028846</td>\n",
       "      <td>1251507.966</td>\n",
       "      <td>1564384.957</td>\n",
       "    </tr>\n",
       "    <tr>\n",
       "      <th>1</th>\n",
       "      <td>3.59025</td>\n",
       "      <td>-0.117558</td>\n",
       "      <td>0.558392</td>\n",
       "      <td>0.405572</td>\n",
       "      <td>3</td>\n",
       "      <td>0.388896</td>\n",
       "      <td>17369</td>\n",
       "      <td>0.0166</td>\n",
       "      <td>13.0</td>\n",
       "      <td>4.744703</td>\n",
       "      <td>...</td>\n",
       "      <td>-0.000129</td>\n",
       "      <td>0.000123</td>\n",
       "      <td>0.000248</td>\n",
       "      <td>3.320000e-07</td>\n",
       "      <td>0.000003</td>\n",
       "      <td>0.000027</td>\n",
       "      <td>-0.002939</td>\n",
       "      <td>-0.010253</td>\n",
       "      <td>1733950.349</td>\n",
       "      <td>2167437.936</td>\n",
       "    </tr>\n",
       "    <tr>\n",
       "      <th>2</th>\n",
       "      <td>3.59025</td>\n",
       "      <td>-0.696727</td>\n",
       "      <td>0.739591</td>\n",
       "      <td>-0.167928</td>\n",
       "      <td>9</td>\n",
       "      <td>0.471947</td>\n",
       "      <td>8277</td>\n",
       "      <td>0.3650</td>\n",
       "      <td>9.0</td>\n",
       "      <td>5.000000</td>\n",
       "      <td>...</td>\n",
       "      <td>-0.000524</td>\n",
       "      <td>-0.000394</td>\n",
       "      <td>0.000116</td>\n",
       "      <td>5.322560e-04</td>\n",
       "      <td>0.000274</td>\n",
       "      <td>0.000784</td>\n",
       "      <td>-0.024791</td>\n",
       "      <td>0.015711</td>\n",
       "      <td>1529197.383</td>\n",
       "      <td>1911496.729</td>\n",
       "    </tr>\n",
       "    <tr>\n",
       "      <th>3</th>\n",
       "      <td>3.59025</td>\n",
       "      <td>-0.694350</td>\n",
       "      <td>1.568248</td>\n",
       "      <td>0.479073</td>\n",
       "      <td>5</td>\n",
       "      <td>0.120653</td>\n",
       "      <td>22508</td>\n",
       "      <td>0.2654</td>\n",
       "      <td>13.0</td>\n",
       "      <td>5.000000</td>\n",
       "      <td>...</td>\n",
       "      <td>0.000346</td>\n",
       "      <td>-0.000090</td>\n",
       "      <td>0.000288</td>\n",
       "      <td>-1.281100e-04</td>\n",
       "      <td>0.000074</td>\n",
       "      <td>0.000341</td>\n",
       "      <td>-0.005680</td>\n",
       "      <td>-0.002190</td>\n",
       "      <td>1711569.424</td>\n",
       "      <td>2139461.780</td>\n",
       "    </tr>\n",
       "    <tr>\n",
       "      <th>4</th>\n",
       "      <td>6.00000</td>\n",
       "      <td>-1.736489</td>\n",
       "      <td>2.765531</td>\n",
       "      <td>1.245280</td>\n",
       "      <td>7</td>\n",
       "      <td>4.866985</td>\n",
       "      <td>22423</td>\n",
       "      <td>0.2138</td>\n",
       "      <td>13.0</td>\n",
       "      <td>4.000000</td>\n",
       "      <td>...</td>\n",
       "      <td>-0.001235</td>\n",
       "      <td>0.000027</td>\n",
       "      <td>0.002449</td>\n",
       "      <td>8.620000e-06</td>\n",
       "      <td>0.001209</td>\n",
       "      <td>-0.000004</td>\n",
       "      <td>0.036104</td>\n",
       "      <td>-0.026552</td>\n",
       "      <td>1267270.265</td>\n",
       "      <td>1584087.831</td>\n",
       "    </tr>\n",
       "  </tbody>\n",
       "</table>\n",
       "<p>5 rows × 210 columns</p>\n",
       "</div>"
      ],
      "text/plain": [
       "   Feature_1  Feature_2  Feature_3  Feature_4  Feature_5  Feature_6  \\\n",
       "0    3.59025  -0.117558   0.558392   0.405572          8   0.430972   \n",
       "1    3.59025  -0.117558   0.558392   0.405572          3   0.388896   \n",
       "2    3.59025  -0.696727   0.739591  -0.167928          9   0.471947   \n",
       "3    3.59025  -0.694350   1.568248   0.479073          5   0.120653   \n",
       "4    6.00000  -1.736489   2.765531   1.245280          7   4.866985   \n",
       "\n",
       "   Feature_7  Feature_8  Feature_9  Feature_10  ...   Ret_175   Ret_176  \\\n",
       "0      75751     0.2254       11.0    4.744703  ... -0.002688  0.002246   \n",
       "1      17369     0.0166       13.0    4.744703  ... -0.000129  0.000123   \n",
       "2       8277     0.3650        9.0    5.000000  ... -0.000524 -0.000394   \n",
       "3      22508     0.2654       13.0    5.000000  ...  0.000346 -0.000090   \n",
       "4      22423     0.2138       13.0    4.000000  ... -0.001235  0.000027   \n",
       "\n",
       "    Ret_177       Ret_178   Ret_179   Ret_180  Ret_PlusOne  Ret_PlusTwo  \\\n",
       "0 -0.000838 -6.953220e-04  0.000003 -0.001974    -0.019512     0.028846   \n",
       "1  0.000248  3.320000e-07  0.000003  0.000027    -0.002939    -0.010253   \n",
       "2  0.000116  5.322560e-04  0.000274  0.000784    -0.024791     0.015711   \n",
       "3  0.000288 -1.281100e-04  0.000074  0.000341    -0.005680    -0.002190   \n",
       "4  0.002449  8.620000e-06  0.001209 -0.000004     0.036104    -0.026552   \n",
       "\n",
       "   Weight_Intraday  Weight_Daily  \n",
       "0      1251507.966   1564384.957  \n",
       "1      1733950.349   2167437.936  \n",
       "2      1529197.383   1911496.729  \n",
       "3      1711569.424   2139461.780  \n",
       "4      1267270.265   1584087.831  \n",
       "\n",
       "[5 rows x 210 columns]"
      ]
     },
     "execution_count": 86,
     "metadata": {},
     "output_type": "execute_result"
    }
   ],
   "source": [
    "dataset.head()"
   ]
  },
  {
   "cell_type": "code",
   "execution_count": 87,
   "metadata": {
    "colab": {},
    "colab_type": "code",
    "id": "4PkxqvK4HrJH"
   },
   "outputs": [],
   "source": [
    "xscale = np.reshape(xscale, (xscale.shape[0], xscale.shape[1], 1))"
   ]
  },
  {
   "cell_type": "code",
   "execution_count": 88,
   "metadata": {
    "colab": {},
    "colab_type": "code",
    "id": "hXSh3uQgHrJM"
   },
   "outputs": [],
   "source": [
    "from keras.models import Sequential\n",
    "from keras.layers import Dense\n",
    "from keras.layers import LSTM\n",
    "from keras.layers import Dropout\n"
   ]
  },
  {
   "cell_type": "code",
   "execution_count": 89,
   "metadata": {
    "colab": {},
    "colab_type": "code",
    "id": "6Spx9D9pHrJO"
   },
   "outputs": [],
   "source": [
    "regressor = Sequential()\n",
    "\n",
    "regressor.add(LSTM(units = 10, return_sequences = True, input_shape = (xscale.shape[1], 1)))\n",
    "regressor.add(Dropout(0.025))\n",
    "\n",
    "regressor.add(LSTM(units = 10, return_sequences = True))\n",
    "regressor.add(Dropout(0.025))\n",
    "\n",
    "regressor.add(LSTM(units = 10, return_sequences = True))\n",
    "regressor.add(Dropout(0.025))\n",
    "\n",
    "regressor.add(LSTM(units = 10))\n",
    "regressor.add(Dropout(0.025))\n",
    "\n",
    "regressor.add(Dense(units = 1))\n"
   ]
  },
  {
   "cell_type": "code",
   "execution_count": 90,
   "metadata": {
    "colab": {},
    "colab_type": "code",
    "id": "GTjZenkeHrJS"
   },
   "outputs": [],
   "source": [
    "regressor.compile(optimizer = 'adam', loss = 'mean_squared_error' , metrics=['mse','mae'])"
   ]
  },
  {
   "cell_type": "code",
   "execution_count": 91,
   "metadata": {
    "colab": {
     "base_uri": "https://localhost:8080/",
     "height": 3377
    },
    "colab_type": "code",
    "id": "U55A1BkqHrJU",
    "outputId": "b1ce5919-ef4f-49ec-d972-6680beda0953"
   },
   "outputs": [
    {
     "name": "stdout",
     "output_type": "stream",
     "text": [
      "Epoch 1/5\n",
      "120000/120000 [==============================] - 176s 1ms/step - loss: 2.9635e-06 - mean_squared_error: 2.9635e-06 - mean_absolute_error: 8.8156e-04\n",
      "Epoch 2/5\n",
      "120000/120000 [==============================] - 167s 1ms/step - loss: 1.0275e-06 - mean_squared_error: 1.0275e-06 - mean_absolute_error: 6.3251e-04\n",
      "Epoch 3/5\n",
      "120000/120000 [==============================] - 168s 1ms/step - loss: 1.0180e-06 - mean_squared_error: 1.0180e-06 - mean_absolute_error: 6.2729e-04\n",
      "Epoch 4/5\n",
      "120000/120000 [==============================] - 170s 1ms/step - loss: 9.8503e-07 - mean_squared_error: 9.8503e-07 - mean_absolute_error: 6.0317e-04\n",
      "Epoch 5/5\n",
      "120000/120000 [==============================] - 165s 1ms/step - loss: 9.6071e-07 - mean_squared_error: 9.6071e-07 - mean_absolute_error: 5.8506e-04\n"
     ]
    }
   ],
   "source": [
    "regressor.fit(xscale,ynew, epochs = 5, batch_size = 50)\n",
    "xscale = np.reshape(xscale, (xscale.shape[0], xscale.shape[1], 1))\n",
    "predicted_stock_price1 = regressor.predict(xscale)\n"
   ]
  },
  {
   "cell_type": "code",
   "execution_count": 92,
   "metadata": {
    "colab": {
     "base_uri": "https://localhost:8080/",
     "height": 15382
    },
    "colab_type": "code",
    "id": "FDB1DeR9HrJW",
    "outputId": "f270ab21-e718-472c-fd2c-71f446260385",
    "scrolled": true
   },
   "outputs": [
    {
     "data": {
      "image/png": "[encoded data removed]",
      "text/plain": [
       "<Figure size 432x288 with 1 Axes>"
      ]
     },
     "metadata": {
      "needs_background": "light"
     },
     "output_type": "display_data"
    },
    {
     "data": {
      "text/plain": [
       "array([[-0.0004134 ],\n",
       "       [-0.0004149 ],\n",
       "       [-0.00041224],\n",
       "       ...,\n",
       "       [-0.00040708],\n",
       "       [-0.00041483],\n",
       "       [-0.00041614]], dtype=float32)"
      ]
     },
     "execution_count": 92,
     "metadata": {},
     "output_type": "execute_result"
    }
   ],
   "source": [
    "plt.plot(predicted_stock_price1)\n",
    "plt.plot(ynew)\n",
    "plt.title('model loss')\n",
    "plt.ylabel('Value')\n",
    "plt.xlabel('Data Points')\n",
    "plt.legend(['Predicted','Real'], loc='upper left')\n",
    "plt.show()\n",
    "\n",
    "predicted_stock_price1\n"
   ]
  },
  {
   "cell_type": "code",
   "execution_count": 93,
   "metadata": {
    "colab": {},
    "colab_type": "code",
    "id": "OBhHc9yTISnE"
   },
   "outputs": [],
   "source": [
    "rows = zip(ynew,Ynew,predicted_stock_price,predicted_stock_price1 )\n",
    "import csv\n",
    "\n",
    "with open('new1.csv', \"w\") as f:\n",
    "    writer = csv.writer(f)\n",
    "    writer.writerow((\"Actual Value\", \"Sequential Predicted Value\", \"LSTM Predicted Value\", \"Relative LSTM Predicted Value\"))\n",
    "    for row in rows:\n",
    "      writer.writerow(row)"
   ]
  },
  {
   "cell_type": "code",
   "execution_count": 94,
   "metadata": {
    "colab": {
     "base_uri": "https://localhost:8080/",
     "height": 1882
    },
    "colab_type": "code",
    "id": "IDDNw0fxK9EM",
    "outputId": "48d681ad-c731-4349-ac87-f6c1f75593c6"
   },
   "outputs": [
    {
     "data": {
      "text/html": [
       "<div>\n",
       "<style scoped>\n",
       "    .dataframe tbody tr th:only-of-type {\n",
       "        vertical-align: middle;\n",
       "    }\n",
       "\n",
       "    .dataframe tbody tr th {\n",
       "        vertical-align: top;\n",
       "    }\n",
       "\n",
       "    .dataframe thead th {\n",
       "        text-align: right;\n",
       "    }\n",
       "</style>\n",
       "<table border=\"1\" class=\"dataframe\">\n",
       "  <thead>\n",
       "    <tr style=\"text-align: right;\">\n",
       "      <th></th>\n",
       "      <th>Actual Value</th>\n",
       "      <th>Sequential Predicted Value</th>\n",
       "      <th>LSTM Predicted Value</th>\n",
       "      <th>Relative LSTM Predicted Value</th>\n",
       "    </tr>\n",
       "  </thead>\n",
       "  <tbody>\n",
       "    <tr>\n",
       "      <th>0</th>\n",
       "      <td>-1.846860e-04</td>\n",
       "      <td>[-4.446225e-05]</td>\n",
       "      <td>[-1.5357317e-06]</td>\n",
       "      <td>[-0.0004134]</td>\n",
       "    </tr>\n",
       "    <tr>\n",
       "      <th>1</th>\n",
       "      <td>9.273560e-04</td>\n",
       "      <td>[-4.9278024e-05]</td>\n",
       "      <td>[-1.5847909e-06]</td>\n",
       "      <td>[-0.0004149]</td>\n",
       "    </tr>\n",
       "    <tr>\n",
       "      <th>2</th>\n",
       "      <td>1.753890e-04</td>\n",
       "      <td>[-4.9278024e-05]</td>\n",
       "      <td>[-1.5811443e-06]</td>\n",
       "      <td>[-0.00041224]</td>\n",
       "    </tr>\n",
       "    <tr>\n",
       "      <th>3</th>\n",
       "      <td>1.647720e-04</td>\n",
       "      <td>[-4.9278024e-05]</td>\n",
       "      <td>[-1.5166164e-06]</td>\n",
       "      <td>[-0.00041361]</td>\n",
       "    </tr>\n",
       "    <tr>\n",
       "      <th>4</th>\n",
       "      <td>-1.090000e-06</td>\n",
       "      <td>[-4.9278024e-05]</td>\n",
       "      <td>[-1.555173e-06]</td>\n",
       "      <td>[-0.0004132]</td>\n",
       "    </tr>\n",
       "    <tr>\n",
       "      <th>5</th>\n",
       "      <td>4.670000e-06</td>\n",
       "      <td>[-4.9278024e-05]</td>\n",
       "      <td>[-1.6254426e-06]</td>\n",
       "      <td>[-0.00042091]</td>\n",
       "    </tr>\n",
       "    <tr>\n",
       "      <th>6</th>\n",
       "      <td>3.295210e-04</td>\n",
       "      <td>[-4.9278024e-05]</td>\n",
       "      <td>[-1.5670929e-06]</td>\n",
       "      <td>[-0.00040723]</td>\n",
       "    </tr>\n",
       "    <tr>\n",
       "      <th>7</th>\n",
       "      <td>-7.975990e-04</td>\n",
       "      <td>[-4.9278024e-05]</td>\n",
       "      <td>[-1.6065568e-06]</td>\n",
       "      <td>[-0.00041145]</td>\n",
       "    </tr>\n",
       "    <tr>\n",
       "      <th>8</th>\n",
       "      <td>7.420000e-06</td>\n",
       "      <td>[-4.9278024e-05]</td>\n",
       "      <td>[-1.6127049e-06]</td>\n",
       "      <td>[-0.00041077]</td>\n",
       "    </tr>\n",
       "    <tr>\n",
       "      <th>9</th>\n",
       "      <td>-1.913230e-04</td>\n",
       "      <td>[-4.9278024e-05]</td>\n",
       "      <td>[-1.5673495e-06]</td>\n",
       "      <td>[-0.0004132]</td>\n",
       "    </tr>\n",
       "    <tr>\n",
       "      <th>10</th>\n",
       "      <td>-8.660000e-06</td>\n",
       "      <td>[-4.9278024e-05]</td>\n",
       "      <td>[-1.6474015e-06]</td>\n",
       "      <td>[-0.00042064]</td>\n",
       "    </tr>\n",
       "    <tr>\n",
       "      <th>11</th>\n",
       "      <td>-4.557227e-06</td>\n",
       "      <td>[-4.9278024e-05]</td>\n",
       "      <td>[-1.6856584e-06]</td>\n",
       "      <td>[-0.00041442]</td>\n",
       "    </tr>\n",
       "    <tr>\n",
       "      <th>12</th>\n",
       "      <td>-7.951760e-04</td>\n",
       "      <td>[-4.9278024e-05]</td>\n",
       "      <td>[-1.568257e-06]</td>\n",
       "      <td>[-0.00041548]</td>\n",
       "    </tr>\n",
       "    <tr>\n",
       "      <th>13</th>\n",
       "      <td>9.598720e-04</td>\n",
       "      <td>[-4.9278024e-05]</td>\n",
       "      <td>[-1.5807119e-06]</td>\n",
       "      <td>[-0.00040548]</td>\n",
       "    </tr>\n",
       "    <tr>\n",
       "      <th>14</th>\n",
       "      <td>-1.604500e-04</td>\n",
       "      <td>[-4.9278024e-05]</td>\n",
       "      <td>[-1.4445473e-06]</td>\n",
       "      <td>[-0.00040814]</td>\n",
       "    </tr>\n",
       "    <tr>\n",
       "      <th>15</th>\n",
       "      <td>-7.935070e-04</td>\n",
       "      <td>[-4.9278024e-05]</td>\n",
       "      <td>[-1.5921336e-06]</td>\n",
       "      <td>[-0.00041434]</td>\n",
       "    </tr>\n",
       "    <tr>\n",
       "      <th>16</th>\n",
       "      <td>-4.773980e-04</td>\n",
       "      <td>[-4.9278024e-05]</td>\n",
       "      <td>[-1.5148227e-06]</td>\n",
       "      <td>[-0.00040712]</td>\n",
       "    </tr>\n",
       "    <tr>\n",
       "      <th>17</th>\n",
       "      <td>-6.983880e-04</td>\n",
       "      <td>[-4.9278024e-05]</td>\n",
       "      <td>[-1.612328e-06]</td>\n",
       "      <td>[-0.00040927]</td>\n",
       "    </tr>\n",
       "    <tr>\n",
       "      <th>18</th>\n",
       "      <td>2.479920e-04</td>\n",
       "      <td>[-4.9278024e-05]</td>\n",
       "      <td>[-1.5568273e-06]</td>\n",
       "      <td>[-0.00041287]</td>\n",
       "    </tr>\n",
       "    <tr>\n",
       "      <th>19</th>\n",
       "      <td>1.126968e-03</td>\n",
       "      <td>[-4.9278024e-05]</td>\n",
       "      <td>[-1.5335899e-06]</td>\n",
       "      <td>[-0.00040991]</td>\n",
       "    </tr>\n",
       "    <tr>\n",
       "      <th>20</th>\n",
       "      <td>-1.730000e-05</td>\n",
       "      <td>[-4.9278024e-05]</td>\n",
       "      <td>[-1.5558451e-06]</td>\n",
       "      <td>[-0.00041029]</td>\n",
       "    </tr>\n",
       "    <tr>\n",
       "      <th>21</th>\n",
       "      <td>-3.706580e-04</td>\n",
       "      <td>[-4.9278024e-05]</td>\n",
       "      <td>[-1.5333173e-06]</td>\n",
       "      <td>[-0.00041164]</td>\n",
       "    </tr>\n",
       "    <tr>\n",
       "      <th>22</th>\n",
       "      <td>9.382250e-04</td>\n",
       "      <td>[-4.9278024e-05]</td>\n",
       "      <td>[-1.5534443e-06]</td>\n",
       "      <td>[-0.00041214]</td>\n",
       "    </tr>\n",
       "    <tr>\n",
       "      <th>23</th>\n",
       "      <td>8.141260e-04</td>\n",
       "      <td>[-4.9278024e-05]</td>\n",
       "      <td>[-1.5192228e-06]</td>\n",
       "      <td>[-0.00041552]</td>\n",
       "    </tr>\n",
       "    <tr>\n",
       "      <th>24</th>\n",
       "      <td>7.272620e-04</td>\n",
       "      <td>[-4.9278024e-05]</td>\n",
       "      <td>[-1.5543636e-06]</td>\n",
       "      <td>[-0.00041087]</td>\n",
       "    </tr>\n",
       "    <tr>\n",
       "      <th>25</th>\n",
       "      <td>-7.524360e-04</td>\n",
       "      <td>[-4.9278024e-05]</td>\n",
       "      <td>[-1.5865782e-06]</td>\n",
       "      <td>[-0.00041145]</td>\n",
       "    </tr>\n",
       "    <tr>\n",
       "      <th>26</th>\n",
       "      <td>-1.411398e-03</td>\n",
       "      <td>[-4.9278024e-05]</td>\n",
       "      <td>[-1.6646727e-06]</td>\n",
       "      <td>[-0.00041831]</td>\n",
       "    </tr>\n",
       "    <tr>\n",
       "      <th>27</th>\n",
       "      <td>1.950000e-05</td>\n",
       "      <td>[-4.9278024e-05]</td>\n",
       "      <td>[-1.5677936e-06]</td>\n",
       "      <td>[-0.00041249]</td>\n",
       "    </tr>\n",
       "    <tr>\n",
       "      <th>28</th>\n",
       "      <td>2.757690e-04</td>\n",
       "      <td>[-4.9278024e-05]</td>\n",
       "      <td>[-1.5404422e-06]</td>\n",
       "      <td>[-0.00041437]</td>\n",
       "    </tr>\n",
       "    <tr>\n",
       "      <th>29</th>\n",
       "      <td>2.800000e-08</td>\n",
       "      <td>[-4.9278024e-05]</td>\n",
       "      <td>[-1.4981891e-06]</td>\n",
       "      <td>[-0.00041637]</td>\n",
       "    </tr>\n",
       "    <tr>\n",
       "      <th>...</th>\n",
       "      <td>...</td>\n",
       "      <td>...</td>\n",
       "      <td>...</td>\n",
       "      <td>...</td>\n",
       "    </tr>\n",
       "    <tr>\n",
       "      <th>119970</th>\n",
       "      <td>6.131000e-04</td>\n",
       "      <td>[-4.3825028e-05]</td>\n",
       "      <td>[-1.4784966e-06]</td>\n",
       "      <td>[-0.00040847]</td>\n",
       "    </tr>\n",
       "    <tr>\n",
       "      <th>119971</th>\n",
       "      <td>-1.398520e-04</td>\n",
       "      <td>[-4.9278024e-05]</td>\n",
       "      <td>[-1.5279528e-06]</td>\n",
       "      <td>[-0.00040646]</td>\n",
       "    </tr>\n",
       "    <tr>\n",
       "      <th>119972</th>\n",
       "      <td>1.544480e-04</td>\n",
       "      <td>[-4.9278024e-05]</td>\n",
       "      <td>[-1.5068415e-06]</td>\n",
       "      <td>[-0.00041094]</td>\n",
       "    </tr>\n",
       "    <tr>\n",
       "      <th>119973</th>\n",
       "      <td>-1.300000e-05</td>\n",
       "      <td>[-4.9278024e-05]</td>\n",
       "      <td>[-1.5362401e-06]</td>\n",
       "      <td>[-0.00040868]</td>\n",
       "    </tr>\n",
       "    <tr>\n",
       "      <th>119974</th>\n",
       "      <td>5.158980e-04</td>\n",
       "      <td>[-4.9278024e-05]</td>\n",
       "      <td>[-1.6748232e-06]</td>\n",
       "      <td>[-0.00042015]</td>\n",
       "    </tr>\n",
       "    <tr>\n",
       "      <th>119975</th>\n",
       "      <td>-2.400200e-04</td>\n",
       "      <td>[-4.9278024e-05]</td>\n",
       "      <td>[-1.5682592e-06]</td>\n",
       "      <td>[-0.00041644]</td>\n",
       "    </tr>\n",
       "    <tr>\n",
       "      <th>119976</th>\n",
       "      <td>-6.999770e-04</td>\n",
       "      <td>[-4.9278024e-05]</td>\n",
       "      <td>[-1.5598102e-06]</td>\n",
       "      <td>[-0.00041296]</td>\n",
       "    </tr>\n",
       "    <tr>\n",
       "      <th>119977</th>\n",
       "      <td>-1.579030e-04</td>\n",
       "      <td>[-4.9278024e-05]</td>\n",
       "      <td>[-1.5769504e-06]</td>\n",
       "      <td>[-0.00040936]</td>\n",
       "    </tr>\n",
       "    <tr>\n",
       "      <th>119978</th>\n",
       "      <td>-2.140050e-04</td>\n",
       "      <td>[-4.9278024e-05]</td>\n",
       "      <td>[-1.5523282e-06]</td>\n",
       "      <td>[-0.00041576]</td>\n",
       "    </tr>\n",
       "    <tr>\n",
       "      <th>119979</th>\n",
       "      <td>-4.058430e-04</td>\n",
       "      <td>[-4.9278024e-05]</td>\n",
       "      <td>[-1.545308e-06]</td>\n",
       "      <td>[-0.00041043]</td>\n",
       "    </tr>\n",
       "    <tr>\n",
       "      <th>119980</th>\n",
       "      <td>4.609480e-04</td>\n",
       "      <td>[-4.9278024e-05]</td>\n",
       "      <td>[-1.7051226e-06]</td>\n",
       "      <td>[-0.0004185]</td>\n",
       "    </tr>\n",
       "    <tr>\n",
       "      <th>119981</th>\n",
       "      <td>2.620000e-06</td>\n",
       "      <td>[-4.9278024e-05]</td>\n",
       "      <td>[-1.5394742e-06]</td>\n",
       "      <td>[-0.00040881]</td>\n",
       "    </tr>\n",
       "    <tr>\n",
       "      <th>119982</th>\n",
       "      <td>9.706140e-04</td>\n",
       "      <td>[-4.9278024e-05]</td>\n",
       "      <td>[-1.5827768e-06]</td>\n",
       "      <td>[-0.00041282]</td>\n",
       "    </tr>\n",
       "    <tr>\n",
       "      <th>119983</th>\n",
       "      <td>2.037340e-04</td>\n",
       "      <td>[-4.9278024e-05]</td>\n",
       "      <td>[-1.5129499e-06]</td>\n",
       "      <td>[-0.00041614]</td>\n",
       "    </tr>\n",
       "    <tr>\n",
       "      <th>119984</th>\n",
       "      <td>6.594280e-04</td>\n",
       "      <td>[-4.9278024e-05]</td>\n",
       "      <td>[-1.6221791e-06]</td>\n",
       "      <td>[-0.00041207]</td>\n",
       "    </tr>\n",
       "    <tr>\n",
       "      <th>119985</th>\n",
       "      <td>1.614943e-03</td>\n",
       "      <td>[-4.9278024e-05]</td>\n",
       "      <td>[-1.5378363e-06]</td>\n",
       "      <td>[-0.00041134]</td>\n",
       "    </tr>\n",
       "    <tr>\n",
       "      <th>119986</th>\n",
       "      <td>-3.034860e-04</td>\n",
       "      <td>[-4.54316e-05]</td>\n",
       "      <td>[-1.620803e-06]</td>\n",
       "      <td>[-0.00041557]</td>\n",
       "    </tr>\n",
       "    <tr>\n",
       "      <th>119987</th>\n",
       "      <td>4.020000e-06</td>\n",
       "      <td>[-4.9278024e-05]</td>\n",
       "      <td>[-1.4560402e-06]</td>\n",
       "      <td>[-0.00040737]</td>\n",
       "    </tr>\n",
       "    <tr>\n",
       "      <th>119988</th>\n",
       "      <td>-2.189930e-04</td>\n",
       "      <td>[-4.9278024e-05]</td>\n",
       "      <td>[-1.488816e-06]</td>\n",
       "      <td>[-0.00040897]</td>\n",
       "    </tr>\n",
       "    <tr>\n",
       "      <th>119989</th>\n",
       "      <td>-4.378600e-04</td>\n",
       "      <td>[-4.9278024e-05]</td>\n",
       "      <td>[-1.5524935e-06]</td>\n",
       "      <td>[-0.00041261]</td>\n",
       "    </tr>\n",
       "    <tr>\n",
       "      <th>119990</th>\n",
       "      <td>-2.147740e-04</td>\n",
       "      <td>[-4.9278024e-05]</td>\n",
       "      <td>[-1.4791368e-06]</td>\n",
       "      <td>[-0.00040633]</td>\n",
       "    </tr>\n",
       "    <tr>\n",
       "      <th>119991</th>\n",
       "      <td>-7.113940e-04</td>\n",
       "      <td>[-4.9278024e-05]</td>\n",
       "      <td>[-1.5782884e-06]</td>\n",
       "      <td>[-0.00040716]</td>\n",
       "    </tr>\n",
       "    <tr>\n",
       "      <th>119992</th>\n",
       "      <td>-1.083472e-03</td>\n",
       "      <td>[-4.9278024e-05]</td>\n",
       "      <td>[-1.5841662e-06]</td>\n",
       "      <td>[-0.00041494]</td>\n",
       "    </tr>\n",
       "    <tr>\n",
       "      <th>119993</th>\n",
       "      <td>-5.580190e-04</td>\n",
       "      <td>[-4.9278024e-05]</td>\n",
       "      <td>[-1.553439e-06]</td>\n",
       "      <td>[-0.00041475]</td>\n",
       "    </tr>\n",
       "    <tr>\n",
       "      <th>119994</th>\n",
       "      <td>3.229888e-03</td>\n",
       "      <td>[-4.9278024e-05]</td>\n",
       "      <td>[-1.5789317e-06]</td>\n",
       "      <td>[-0.00042094]</td>\n",
       "    </tr>\n",
       "    <tr>\n",
       "      <th>119995</th>\n",
       "      <td>-1.099806e-03</td>\n",
       "      <td>[-4.9278024e-05]</td>\n",
       "      <td>[-1.624754e-06]</td>\n",
       "      <td>[-0.00041862]</td>\n",
       "    </tr>\n",
       "    <tr>\n",
       "      <th>119996</th>\n",
       "      <td>4.030490e-04</td>\n",
       "      <td>[-4.9278024e-05]</td>\n",
       "      <td>[-1.4723228e-06]</td>\n",
       "      <td>[-0.00040438]</td>\n",
       "    </tr>\n",
       "    <tr>\n",
       "      <th>119997</th>\n",
       "      <td>-1.360000e-05</td>\n",
       "      <td>[-4.9278024e-05]</td>\n",
       "      <td>[-1.5371421e-06]</td>\n",
       "      <td>[-0.00040708]</td>\n",
       "    </tr>\n",
       "    <tr>\n",
       "      <th>119998</th>\n",
       "      <td>6.304680e-04</td>\n",
       "      <td>[2.1908927e-05]</td>\n",
       "      <td>[-1.5884139e-06]</td>\n",
       "      <td>[-0.00041483]</td>\n",
       "    </tr>\n",
       "    <tr>\n",
       "      <th>119999</th>\n",
       "      <td>-4.868730e-04</td>\n",
       "      <td>[-4.9278024e-05]</td>\n",
       "      <td>[-1.6578866e-06]</td>\n",
       "      <td>[-0.00041614]</td>\n",
       "    </tr>\n",
       "  </tbody>\n",
       "</table>\n",
       "<p>120000 rows × 4 columns</p>\n",
       "</div>"
      ],
      "text/plain": [
       "        Actual Value Sequential Predicted Value LSTM Predicted Value  \\\n",
       "0      -1.846860e-04            [-4.446225e-05]     [-1.5357317e-06]   \n",
       "1       9.273560e-04           [-4.9278024e-05]     [-1.5847909e-06]   \n",
       "2       1.753890e-04           [-4.9278024e-05]     [-1.5811443e-06]   \n",
       "3       1.647720e-04           [-4.9278024e-05]     [-1.5166164e-06]   \n",
       "4      -1.090000e-06           [-4.9278024e-05]      [-1.555173e-06]   \n",
       "5       4.670000e-06           [-4.9278024e-05]     [-1.6254426e-06]   \n",
       "6       3.295210e-04           [-4.9278024e-05]     [-1.5670929e-06]   \n",
       "7      -7.975990e-04           [-4.9278024e-05]     [-1.6065568e-06]   \n",
       "8       7.420000e-06           [-4.9278024e-05]     [-1.6127049e-06]   \n",
       "9      -1.913230e-04           [-4.9278024e-05]     [-1.5673495e-06]   \n",
       "10     -8.660000e-06           [-4.9278024e-05]     [-1.6474015e-06]   \n",
       "11     -4.557227e-06           [-4.9278024e-05]     [-1.6856584e-06]   \n",
       "12     -7.951760e-04           [-4.9278024e-05]      [-1.568257e-06]   \n",
       "13      9.598720e-04           [-4.9278024e-05]     [-1.5807119e-06]   \n",
       "14     -1.604500e-04           [-4.9278024e-05]     [-1.4445473e-06]   \n",
       "15     -7.935070e-04           [-4.9278024e-05]     [-1.5921336e-06]   \n",
       "16     -4.773980e-04           [-4.9278024e-05]     [-1.5148227e-06]   \n",
       "17     -6.983880e-04           [-4.9278024e-05]      [-1.612328e-06]   \n",
       "18      2.479920e-04           [-4.9278024e-05]     [-1.5568273e-06]   \n",
       "19      1.126968e-03           [-4.9278024e-05]     [-1.5335899e-06]   \n",
       "20     -1.730000e-05           [-4.9278024e-05]     [-1.5558451e-06]   \n",
       "21     -3.706580e-04           [-4.9278024e-05]     [-1.5333173e-06]   \n",
       "22      9.382250e-04           [-4.9278024e-05]     [-1.5534443e-06]   \n",
       "23      8.141260e-04           [-4.9278024e-05]     [-1.5192228e-06]   \n",
       "24      7.272620e-04           [-4.9278024e-05]     [-1.5543636e-06]   \n",
       "25     -7.524360e-04           [-4.9278024e-05]     [-1.5865782e-06]   \n",
       "26     -1.411398e-03           [-4.9278024e-05]     [-1.6646727e-06]   \n",
       "27      1.950000e-05           [-4.9278024e-05]     [-1.5677936e-06]   \n",
       "28      2.757690e-04           [-4.9278024e-05]     [-1.5404422e-06]   \n",
       "29      2.800000e-08           [-4.9278024e-05]     [-1.4981891e-06]   \n",
       "...              ...                        ...                  ...   \n",
       "119970  6.131000e-04           [-4.3825028e-05]     [-1.4784966e-06]   \n",
       "119971 -1.398520e-04           [-4.9278024e-05]     [-1.5279528e-06]   \n",
       "119972  1.544480e-04           [-4.9278024e-05]     [-1.5068415e-06]   \n",
       "119973 -1.300000e-05           [-4.9278024e-05]     [-1.5362401e-06]   \n",
       "119974  5.158980e-04           [-4.9278024e-05]     [-1.6748232e-06]   \n",
       "119975 -2.400200e-04           [-4.9278024e-05]     [-1.5682592e-06]   \n",
       "119976 -6.999770e-04           [-4.9278024e-05]     [-1.5598102e-06]   \n",
       "119977 -1.579030e-04           [-4.9278024e-05]     [-1.5769504e-06]   \n",
       "119978 -2.140050e-04           [-4.9278024e-05]     [-1.5523282e-06]   \n",
       "119979 -4.058430e-04           [-4.9278024e-05]      [-1.545308e-06]   \n",
       "119980  4.609480e-04           [-4.9278024e-05]     [-1.7051226e-06]   \n",
       "119981  2.620000e-06           [-4.9278024e-05]     [-1.5394742e-06]   \n",
       "119982  9.706140e-04           [-4.9278024e-05]     [-1.5827768e-06]   \n",
       "119983  2.037340e-04           [-4.9278024e-05]     [-1.5129499e-06]   \n",
       "119984  6.594280e-04           [-4.9278024e-05]     [-1.6221791e-06]   \n",
       "119985  1.614943e-03           [-4.9278024e-05]     [-1.5378363e-06]   \n",
       "119986 -3.034860e-04             [-4.54316e-05]      [-1.620803e-06]   \n",
       "119987  4.020000e-06           [-4.9278024e-05]     [-1.4560402e-06]   \n",
       "119988 -2.189930e-04           [-4.9278024e-05]      [-1.488816e-06]   \n",
       "119989 -4.378600e-04           [-4.9278024e-05]     [-1.5524935e-06]   \n",
       "119990 -2.147740e-04           [-4.9278024e-05]     [-1.4791368e-06]   \n",
       "119991 -7.113940e-04           [-4.9278024e-05]     [-1.5782884e-06]   \n",
       "119992 -1.083472e-03           [-4.9278024e-05]     [-1.5841662e-06]   \n",
       "119993 -5.580190e-04           [-4.9278024e-05]      [-1.553439e-06]   \n",
       "119994  3.229888e-03           [-4.9278024e-05]     [-1.5789317e-06]   \n",
       "119995 -1.099806e-03           [-4.9278024e-05]      [-1.624754e-06]   \n",
       "119996  4.030490e-04           [-4.9278024e-05]     [-1.4723228e-06]   \n",
       "119997 -1.360000e-05           [-4.9278024e-05]     [-1.5371421e-06]   \n",
       "119998  6.304680e-04            [2.1908927e-05]     [-1.5884139e-06]   \n",
       "119999 -4.868730e-04           [-4.9278024e-05]     [-1.6578866e-06]   \n",
       "\n",
       "       Relative LSTM Predicted Value  \n",
       "0                       [-0.0004134]  \n",
       "1                       [-0.0004149]  \n",
       "2                      [-0.00041224]  \n",
       "3                      [-0.00041361]  \n",
       "4                       [-0.0004132]  \n",
       "5                      [-0.00042091]  \n",
       "6                      [-0.00040723]  \n",
       "7                      [-0.00041145]  \n",
       "8                      [-0.00041077]  \n",
       "9                       [-0.0004132]  \n",
       "10                     [-0.00042064]  \n",
       "11                     [-0.00041442]  \n",
       "12                     [-0.00041548]  \n",
       "13                     [-0.00040548]  \n",
       "14                     [-0.00040814]  \n",
       "15                     [-0.00041434]  \n",
       "16                     [-0.00040712]  \n",
       "17                     [-0.00040927]  \n",
       "18                     [-0.00041287]  \n",
       "19                     [-0.00040991]  \n",
       "20                     [-0.00041029]  \n",
       "21                     [-0.00041164]  \n",
       "22                     [-0.00041214]  \n",
       "23                     [-0.00041552]  \n",
       "24                     [-0.00041087]  \n",
       "25                     [-0.00041145]  \n",
       "26                     [-0.00041831]  \n",
       "27                     [-0.00041249]  \n",
       "28                     [-0.00041437]  \n",
       "29                     [-0.00041637]  \n",
       "...                              ...  \n",
       "119970                 [-0.00040847]  \n",
       "119971                 [-0.00040646]  \n",
       "119972                 [-0.00041094]  \n",
       "119973                 [-0.00040868]  \n",
       "119974                 [-0.00042015]  \n",
       "119975                 [-0.00041644]  \n",
       "119976                 [-0.00041296]  \n",
       "119977                 [-0.00040936]  \n",
       "119978                 [-0.00041576]  \n",
       "119979                 [-0.00041043]  \n",
       "119980                  [-0.0004185]  \n",
       "119981                 [-0.00040881]  \n",
       "119982                 [-0.00041282]  \n",
       "119983                 [-0.00041614]  \n",
       "119984                 [-0.00041207]  \n",
       "119985                 [-0.00041134]  \n",
       "119986                 [-0.00041557]  \n",
       "119987                 [-0.00040737]  \n",
       "119988                 [-0.00040897]  \n",
       "119989                 [-0.00041261]  \n",
       "119990                 [-0.00040633]  \n",
       "119991                 [-0.00040716]  \n",
       "119992                 [-0.00041494]  \n",
       "119993                 [-0.00041475]  \n",
       "119994                 [-0.00042094]  \n",
       "119995                 [-0.00041862]  \n",
       "119996                 [-0.00040438]  \n",
       "119997                 [-0.00040708]  \n",
       "119998                 [-0.00041483]  \n",
       "119999                 [-0.00041614]  \n",
       "\n",
       "[120000 rows x 4 columns]"
      ]
     },
     "execution_count": 94,
     "metadata": {},
     "output_type": "execute_result"
    }
   ],
   "source": [
    "dataset3 = pd.read_csv('new1.csv')\n",
    "dataset3"
   ]
  },
  {
   "cell_type": "code",
   "execution_count": null,
   "metadata": {
    "colab": {},
    "colab_type": "code",
    "id": "-Bw0HSzgLp4A"
   },
   "outputs": [],
   "source": []
  },
  {
   "cell_type": "code",
   "execution_count": null,
   "metadata": {},
   "outputs": [],
   "source": []
  },
  {
   "cell_type": "code",
   "execution_count": null,
   "metadata": {},
   "outputs": [],
   "source": []
  },
  {
   "cell_type": "code",
   "execution_count": null,
   "metadata": {},
   "outputs": [],
   "source": []
  }
 ],
 "metadata": {
  "accelerator": "TPU",
  "colab": {
   "collapsed_sections": [],
   "name": "Winton Stock Prediction 1.ipynb",
   "provenance": [],
   "version": "0.3.2"
  },
  "kernelspec": {
   "display_name": "Python 3",
   "language": "python",
   "name": "python3"
  },
  "language_info": {
   "codemirror_mode": {
    "name": "ipython",
    "version": 3
   },
   "file_extension": ".py",
   "mimetype": "text/x-python",
   "name": "python",
   "nbconvert_exporter": "python",
   "pygments_lexer": "ipython3",
   "version": "3.7.3"
  }
 },
 "nbformat": 4,
 "nbformat_minor": 1
}
