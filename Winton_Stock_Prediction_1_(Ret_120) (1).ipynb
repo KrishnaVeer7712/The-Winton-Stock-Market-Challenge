{
 "cells": [
  {
   "cell_type": "code",
   "execution_count": 1,
   "metadata": {
    "colab": {
     "base_uri": "https://localhost:8080/",
     "height": 34
    },
    "colab_type": "code",
    "id": "Dr62BfHk1IS2",
    "outputId": "beb583a7-8c3a-4e5b-a4b3-7477a150a69b"
   },
   "outputs": [
    {
     "name": "stderr",
     "output_type": "stream",
     "text": [
      "Using TensorFlow backend.\n"
     ]
    }
   ],
   "source": [
    "import numpy\n",
    "import pandas as pd\n",
    "from keras.models import Sequential\n",
    "from keras.layers import Dense\n",
    "from keras.wrappers.scikit_learn import KerasRegressor\n",
    "from sklearn.model_selection import cross_val_score\n",
    "from sklearn.model_selection import KFold\n",
    "from sklearn.preprocessing import StandardScaler\n",
    "from sklearn.pipeline import Pipeline\n",
    "from sklearn.preprocessing import MinMaxScaler\n",
    "import matplotlib.pyplot as plt"
   ]
  },
  {
   "cell_type": "code",
   "execution_count": 2,
   "metadata": {
    "colab": {
     "base_uri": "https://localhost:8080/",
     "height": 328
    },
    "colab_type": "code",
    "id": "6RM6RrXa1K1q",
    "outputId": "6f56db9a-3641-465d-d4bb-fe8ac3d2afdd"
   },
   "outputs": [
    {
     "data": {
      "text/html": [
       "<div>\n",
       "<style scoped>\n",
       "    .dataframe tbody tr th:only-of-type {\n",
       "        vertical-align: middle;\n",
       "    }\n",
       "\n",
       "    .dataframe tbody tr th {\n",
       "        vertical-align: top;\n",
       "    }\n",
       "\n",
       "    .dataframe thead th {\n",
       "        text-align: right;\n",
       "    }\n",
       "</style>\n",
       "<table border=\"1\" class=\"dataframe\">\n",
       "  <thead>\n",
       "    <tr style=\"text-align: right;\">\n",
       "      <th></th>\n",
       "      <th>Feature_1</th>\n",
       "      <th>Feature_2</th>\n",
       "      <th>Feature_3</th>\n",
       "      <th>Feature_4</th>\n",
       "      <th>Feature_5</th>\n",
       "      <th>Feature_6</th>\n",
       "      <th>Feature_7</th>\n",
       "      <th>Feature_8</th>\n",
       "      <th>Feature_9</th>\n",
       "      <th>Feature_10</th>\n",
       "      <th>...</th>\n",
       "      <th>Ret_175</th>\n",
       "      <th>Ret_176</th>\n",
       "      <th>Ret_177</th>\n",
       "      <th>Ret_178</th>\n",
       "      <th>Ret_179</th>\n",
       "      <th>Ret_180</th>\n",
       "      <th>Ret_PlusOne</th>\n",
       "      <th>Ret_PlusTwo</th>\n",
       "      <th>Weight_Intraday</th>\n",
       "      <th>Weight_Daily</th>\n",
       "    </tr>\n",
       "  </thead>\n",
       "  <tbody>\n",
       "    <tr>\n",
       "      <th>0</th>\n",
       "      <td>3.59025</td>\n",
       "      <td>-0.117558</td>\n",
       "      <td>0.558392</td>\n",
       "      <td>0.405572</td>\n",
       "      <td>8</td>\n",
       "      <td>0.430972</td>\n",
       "      <td>75751</td>\n",
       "      <td>0.2254</td>\n",
       "      <td>11.0</td>\n",
       "      <td>4.744703</td>\n",
       "      <td>...</td>\n",
       "      <td>-0.002688</td>\n",
       "      <td>0.002246</td>\n",
       "      <td>-0.000838</td>\n",
       "      <td>-6.953220e-04</td>\n",
       "      <td>0.000003</td>\n",
       "      <td>-0.001974</td>\n",
       "      <td>-0.019512</td>\n",
       "      <td>0.028846</td>\n",
       "      <td>1251507.966</td>\n",
       "      <td>1564384.957</td>\n",
       "    </tr>\n",
       "    <tr>\n",
       "      <th>1</th>\n",
       "      <td>3.59025</td>\n",
       "      <td>-0.117558</td>\n",
       "      <td>0.558392</td>\n",
       "      <td>0.405572</td>\n",
       "      <td>3</td>\n",
       "      <td>0.388896</td>\n",
       "      <td>17369</td>\n",
       "      <td>0.0166</td>\n",
       "      <td>13.0</td>\n",
       "      <td>4.744703</td>\n",
       "      <td>...</td>\n",
       "      <td>-0.000129</td>\n",
       "      <td>0.000123</td>\n",
       "      <td>0.000248</td>\n",
       "      <td>3.320000e-07</td>\n",
       "      <td>0.000003</td>\n",
       "      <td>0.000027</td>\n",
       "      <td>-0.002939</td>\n",
       "      <td>-0.010253</td>\n",
       "      <td>1733950.349</td>\n",
       "      <td>2167437.936</td>\n",
       "    </tr>\n",
       "    <tr>\n",
       "      <th>2</th>\n",
       "      <td>3.59025</td>\n",
       "      <td>-0.696727</td>\n",
       "      <td>0.739591</td>\n",
       "      <td>-0.167928</td>\n",
       "      <td>9</td>\n",
       "      <td>0.471947</td>\n",
       "      <td>8277</td>\n",
       "      <td>0.3650</td>\n",
       "      <td>9.0</td>\n",
       "      <td>5.000000</td>\n",
       "      <td>...</td>\n",
       "      <td>-0.000524</td>\n",
       "      <td>-0.000394</td>\n",
       "      <td>0.000116</td>\n",
       "      <td>5.322560e-04</td>\n",
       "      <td>0.000274</td>\n",
       "      <td>0.000784</td>\n",
       "      <td>-0.024791</td>\n",
       "      <td>0.015711</td>\n",
       "      <td>1529197.383</td>\n",
       "      <td>1911496.729</td>\n",
       "    </tr>\n",
       "    <tr>\n",
       "      <th>3</th>\n",
       "      <td>3.59025</td>\n",
       "      <td>-0.694350</td>\n",
       "      <td>1.568248</td>\n",
       "      <td>0.479073</td>\n",
       "      <td>5</td>\n",
       "      <td>0.120653</td>\n",
       "      <td>22508</td>\n",
       "      <td>0.2654</td>\n",
       "      <td>13.0</td>\n",
       "      <td>5.000000</td>\n",
       "      <td>...</td>\n",
       "      <td>0.000346</td>\n",
       "      <td>-0.000090</td>\n",
       "      <td>0.000288</td>\n",
       "      <td>-1.281100e-04</td>\n",
       "      <td>0.000074</td>\n",
       "      <td>0.000341</td>\n",
       "      <td>-0.005680</td>\n",
       "      <td>-0.002190</td>\n",
       "      <td>1711569.424</td>\n",
       "      <td>2139461.780</td>\n",
       "    </tr>\n",
       "    <tr>\n",
       "      <th>4</th>\n",
       "      <td>6.00000</td>\n",
       "      <td>-1.736489</td>\n",
       "      <td>2.765531</td>\n",
       "      <td>1.245280</td>\n",
       "      <td>7</td>\n",
       "      <td>4.866985</td>\n",
       "      <td>22423</td>\n",
       "      <td>0.2138</td>\n",
       "      <td>13.0</td>\n",
       "      <td>4.000000</td>\n",
       "      <td>...</td>\n",
       "      <td>-0.001235</td>\n",
       "      <td>0.000027</td>\n",
       "      <td>0.002449</td>\n",
       "      <td>8.620000e-06</td>\n",
       "      <td>0.001209</td>\n",
       "      <td>-0.000004</td>\n",
       "      <td>0.036104</td>\n",
       "      <td>-0.026552</td>\n",
       "      <td>1267270.265</td>\n",
       "      <td>1584087.831</td>\n",
       "    </tr>\n",
       "  </tbody>\n",
       "</table>\n",
       "<p>5 rows × 210 columns</p>\n",
       "</div>"
      ],
      "text/plain": [
       "   Feature_1  Feature_2  Feature_3  Feature_4  Feature_5  Feature_6  \\\n",
       "0    3.59025  -0.117558   0.558392   0.405572          8   0.430972   \n",
       "1    3.59025  -0.117558   0.558392   0.405572          3   0.388896   \n",
       "2    3.59025  -0.696727   0.739591  -0.167928          9   0.471947   \n",
       "3    3.59025  -0.694350   1.568248   0.479073          5   0.120653   \n",
       "4    6.00000  -1.736489   2.765531   1.245280          7   4.866985   \n",
       "\n",
       "   Feature_7  Feature_8  Feature_9  Feature_10  ...   Ret_175   Ret_176  \\\n",
       "0      75751     0.2254       11.0    4.744703  ... -0.002688  0.002246   \n",
       "1      17369     0.0166       13.0    4.744703  ... -0.000129  0.000123   \n",
       "2       8277     0.3650        9.0    5.000000  ... -0.000524 -0.000394   \n",
       "3      22508     0.2654       13.0    5.000000  ...  0.000346 -0.000090   \n",
       "4      22423     0.2138       13.0    4.000000  ... -0.001235  0.000027   \n",
       "\n",
       "    Ret_177       Ret_178   Ret_179   Ret_180  Ret_PlusOne  Ret_PlusTwo  \\\n",
       "0 -0.000838 -6.953220e-04  0.000003 -0.001974    -0.019512     0.028846   \n",
       "1  0.000248  3.320000e-07  0.000003  0.000027    -0.002939    -0.010253   \n",
       "2  0.000116  5.322560e-04  0.000274  0.000784    -0.024791     0.015711   \n",
       "3  0.000288 -1.281100e-04  0.000074  0.000341    -0.005680    -0.002190   \n",
       "4  0.002449  8.620000e-06  0.001209 -0.000004     0.036104    -0.026552   \n",
       "\n",
       "   Weight_Intraday  Weight_Daily  \n",
       "0      1251507.966   1564384.957  \n",
       "1      1733950.349   2167437.936  \n",
       "2      1529197.383   1911496.729  \n",
       "3      1711569.424   2139461.780  \n",
       "4      1267270.265   1584087.831  \n",
       "\n",
       "[5 rows x 210 columns]"
      ]
     },
     "execution_count": 2,
     "metadata": {},
     "output_type": "execute_result"
    }
   ],
   "source": [
    "dataset = pd.read_csv('C:/Users/Krishna Veer Singh/Downloads/Winton_Stock_Prediction/train.csv')\n",
    "dataset.fillna(dataset.mean(axis=0), inplace=True)\n",
    "dataset.head()"
   ]
  },
  {
   "cell_type": "code",
   "execution_count": 3,
   "metadata": {
    "colab": {},
    "colab_type": "code",
    "id": "qcEwrmJF1YlE"
   },
   "outputs": [],
   "source": [
    "X = dataset.iloc[:,0:27]\n",
    "Y = dataset.iloc[:,145]"
   ]
  },
  {
   "cell_type": "code",
   "execution_count": 4,
   "metadata": {
    "colab": {
     "base_uri": "https://localhost:8080/",
     "height": 215
    },
    "colab_type": "code",
    "id": "XSN2-o081ank",
    "outputId": "140b238d-58ce-4ca3-f1a1-25747ed1dfa4"
   },
   "outputs": [
    {
     "data": {
      "text/html": [
       "<div>\n",
       "<style scoped>\n",
       "    .dataframe tbody tr th:only-of-type {\n",
       "        vertical-align: middle;\n",
       "    }\n",
       "\n",
       "    .dataframe tbody tr th {\n",
       "        vertical-align: top;\n",
       "    }\n",
       "\n",
       "    .dataframe thead th {\n",
       "        text-align: right;\n",
       "    }\n",
       "</style>\n",
       "<table border=\"1\" class=\"dataframe\">\n",
       "  <thead>\n",
       "    <tr style=\"text-align: right;\">\n",
       "      <th></th>\n",
       "      <th>Feature_1</th>\n",
       "      <th>Feature_2</th>\n",
       "      <th>Feature_3</th>\n",
       "      <th>Feature_4</th>\n",
       "      <th>Feature_5</th>\n",
       "      <th>Feature_6</th>\n",
       "      <th>Feature_7</th>\n",
       "      <th>Feature_8</th>\n",
       "      <th>Feature_9</th>\n",
       "      <th>Feature_10</th>\n",
       "      <th>...</th>\n",
       "      <th>Feature_18</th>\n",
       "      <th>Feature_19</th>\n",
       "      <th>Feature_20</th>\n",
       "      <th>Feature_21</th>\n",
       "      <th>Feature_22</th>\n",
       "      <th>Feature_23</th>\n",
       "      <th>Feature_24</th>\n",
       "      <th>Feature_25</th>\n",
       "      <th>Ret_MinusTwo</th>\n",
       "      <th>Ret_MinusOne</th>\n",
       "    </tr>\n",
       "  </thead>\n",
       "  <tbody>\n",
       "    <tr>\n",
       "      <th>0</th>\n",
       "      <td>3.59025</td>\n",
       "      <td>-0.117558</td>\n",
       "      <td>0.558392</td>\n",
       "      <td>0.405572</td>\n",
       "      <td>8</td>\n",
       "      <td>0.430972</td>\n",
       "      <td>75751</td>\n",
       "      <td>0.2254</td>\n",
       "      <td>11.0</td>\n",
       "      <td>4.744703</td>\n",
       "      <td>...</td>\n",
       "      <td>0.803059</td>\n",
       "      <td>-0.925463</td>\n",
       "      <td>2.0</td>\n",
       "      <td>0.605593</td>\n",
       "      <td>-0.489492</td>\n",
       "      <td>0.799833</td>\n",
       "      <td>-1.209290</td>\n",
       "      <td>-0.329675</td>\n",
       "      <td>0.055275</td>\n",
       "      <td>-0.010770</td>\n",
       "    </tr>\n",
       "    <tr>\n",
       "      <th>1</th>\n",
       "      <td>3.59025</td>\n",
       "      <td>-0.117558</td>\n",
       "      <td>0.558392</td>\n",
       "      <td>0.405572</td>\n",
       "      <td>3</td>\n",
       "      <td>0.388896</td>\n",
       "      <td>17369</td>\n",
       "      <td>0.0166</td>\n",
       "      <td>13.0</td>\n",
       "      <td>4.744703</td>\n",
       "      <td>...</td>\n",
       "      <td>0.917958</td>\n",
       "      <td>-0.897067</td>\n",
       "      <td>9.0</td>\n",
       "      <td>0.886205</td>\n",
       "      <td>-0.151805</td>\n",
       "      <td>1.239856</td>\n",
       "      <td>0.953424</td>\n",
       "      <td>-0.709462</td>\n",
       "      <td>0.009748</td>\n",
       "      <td>0.002987</td>\n",
       "    </tr>\n",
       "    <tr>\n",
       "      <th>2</th>\n",
       "      <td>3.59025</td>\n",
       "      <td>-0.696727</td>\n",
       "      <td>0.739591</td>\n",
       "      <td>-0.167928</td>\n",
       "      <td>9</td>\n",
       "      <td>0.471947</td>\n",
       "      <td>8277</td>\n",
       "      <td>0.3650</td>\n",
       "      <td>9.0</td>\n",
       "      <td>5.000000</td>\n",
       "      <td>...</td>\n",
       "      <td>1.799813</td>\n",
       "      <td>-1.603488</td>\n",
       "      <td>3.0</td>\n",
       "      <td>0.605593</td>\n",
       "      <td>0.389061</td>\n",
       "      <td>1.728096</td>\n",
       "      <td>-1.798090</td>\n",
       "      <td>-1.019370</td>\n",
       "      <td>0.003077</td>\n",
       "      <td>0.006181</td>\n",
       "    </tr>\n",
       "    <tr>\n",
       "      <th>3</th>\n",
       "      <td>3.59025</td>\n",
       "      <td>-0.694350</td>\n",
       "      <td>1.568248</td>\n",
       "      <td>0.479073</td>\n",
       "      <td>5</td>\n",
       "      <td>0.120653</td>\n",
       "      <td>22508</td>\n",
       "      <td>0.2654</td>\n",
       "      <td>13.0</td>\n",
       "      <td>5.000000</td>\n",
       "      <td>...</td>\n",
       "      <td>1.565036</td>\n",
       "      <td>-1.205438</td>\n",
       "      <td>7.0</td>\n",
       "      <td>1.148738</td>\n",
       "      <td>-2.440799</td>\n",
       "      <td>1.551425</td>\n",
       "      <td>-1.788725</td>\n",
       "      <td>-0.329675</td>\n",
       "      <td>0.000984</td>\n",
       "      <td>0.014106</td>\n",
       "    </tr>\n",
       "    <tr>\n",
       "      <th>4</th>\n",
       "      <td>6.00000</td>\n",
       "      <td>-1.736489</td>\n",
       "      <td>2.765531</td>\n",
       "      <td>1.245280</td>\n",
       "      <td>7</td>\n",
       "      <td>4.866985</td>\n",
       "      <td>22423</td>\n",
       "      <td>0.2138</td>\n",
       "      <td>13.0</td>\n",
       "      <td>4.000000</td>\n",
       "      <td>...</td>\n",
       "      <td>-3.208872</td>\n",
       "      <td>-1.102189</td>\n",
       "      <td>7.0</td>\n",
       "      <td>3.381040</td>\n",
       "      <td>1.732708</td>\n",
       "      <td>1.965189</td>\n",
       "      <td>-5.993092</td>\n",
       "      <td>3.219820</td>\n",
       "      <td>-0.018224</td>\n",
       "      <td>0.011065</td>\n",
       "    </tr>\n",
       "  </tbody>\n",
       "</table>\n",
       "<p>5 rows × 27 columns</p>\n",
       "</div>"
      ],
      "text/plain": [
       "   Feature_1  Feature_2  Feature_3  Feature_4  Feature_5  Feature_6  \\\n",
       "0    3.59025  -0.117558   0.558392   0.405572          8   0.430972   \n",
       "1    3.59025  -0.117558   0.558392   0.405572          3   0.388896   \n",
       "2    3.59025  -0.696727   0.739591  -0.167928          9   0.471947   \n",
       "3    3.59025  -0.694350   1.568248   0.479073          5   0.120653   \n",
       "4    6.00000  -1.736489   2.765531   1.245280          7   4.866985   \n",
       "\n",
       "   Feature_7  Feature_8  Feature_9  Feature_10  ...  Feature_18  Feature_19  \\\n",
       "0      75751     0.2254       11.0    4.744703  ...    0.803059   -0.925463   \n",
       "1      17369     0.0166       13.0    4.744703  ...    0.917958   -0.897067   \n",
       "2       8277     0.3650        9.0    5.000000  ...    1.799813   -1.603488   \n",
       "3      22508     0.2654       13.0    5.000000  ...    1.565036   -1.205438   \n",
       "4      22423     0.2138       13.0    4.000000  ...   -3.208872   -1.102189   \n",
       "\n",
       "   Feature_20  Feature_21  Feature_22  Feature_23  Feature_24  Feature_25  \\\n",
       "0         2.0    0.605593   -0.489492    0.799833   -1.209290   -0.329675   \n",
       "1         9.0    0.886205   -0.151805    1.239856    0.953424   -0.709462   \n",
       "2         3.0    0.605593    0.389061    1.728096   -1.798090   -1.019370   \n",
       "3         7.0    1.148738   -2.440799    1.551425   -1.788725   -0.329675   \n",
       "4         7.0    3.381040    1.732708    1.965189   -5.993092    3.219820   \n",
       "\n",
       "   Ret_MinusTwo  Ret_MinusOne  \n",
       "0      0.055275     -0.010770  \n",
       "1      0.009748      0.002987  \n",
       "2      0.003077      0.006181  \n",
       "3      0.000984      0.014106  \n",
       "4     -0.018224      0.011065  \n",
       "\n",
       "[5 rows x 27 columns]"
      ]
     },
     "execution_count": 4,
     "metadata": {},
     "output_type": "execute_result"
    }
   ],
   "source": [
    "X.head()"
   ]
  },
  {
   "cell_type": "code",
   "execution_count": 5,
   "metadata": {
    "colab": {
     "base_uri": "https://localhost:8080/",
     "height": 34
    },
    "colab_type": "code",
    "id": "jHzVQbdk1j2p",
    "outputId": "01d48661-97da-4957-c75e-0454310b1a03"
   },
   "outputs": [
    {
     "data": {
      "text/plain": [
       "(40000, 27)"
      ]
     },
     "execution_count": 5,
     "metadata": {},
     "output_type": "execute_result"
    }
   ],
   "source": [
    "X.shape"
   ]
  },
  {
   "cell_type": "code",
   "execution_count": 6,
   "metadata": {
    "colab": {
     "base_uri": "https://localhost:8080/",
     "height": 118
    },
    "colab_type": "code",
    "id": "RXczoPMd1lLX",
    "outputId": "c02d290a-14eb-4aa7-cb6e-0e49d4dfa663"
   },
   "outputs": [
    {
     "data": {
      "text/plain": [
       "0    1.340780e-04\n",
       "1    2.558110e-04\n",
       "2   -3.718830e-04\n",
       "3    2.220480e-04\n",
       "4   -4.470000e-07\n",
       "Name: Ret_120, dtype: float64"
      ]
     },
     "execution_count": 6,
     "metadata": {},
     "output_type": "execute_result"
    }
   ],
   "source": [
    "Y.head()"
   ]
  },
  {
   "cell_type": "code",
   "execution_count": 7,
   "metadata": {
    "colab": {
     "base_uri": "https://localhost:8080/",
     "height": 34
    },
    "colab_type": "code",
    "id": "fYkPkE6f1mj4",
    "outputId": "4ffb3eef-2d16-42dc-ad7b-1c2d76681939"
   },
   "outputs": [
    {
     "data": {
      "text/plain": [
       "(40000,)"
      ]
     },
     "execution_count": 7,
     "metadata": {},
     "output_type": "execute_result"
    }
   ],
   "source": [
    "Y.shape"
   ]
  },
  {
   "cell_type": "code",
   "execution_count": 8,
   "metadata": {
    "colab": {},
    "colab_type": "code",
    "id": "VH-J0sB01od7",
    "outputId": "2ef3143a-9ce6-4311-9abf-31dbff39bd5a"
   },
   "outputs": [
    {
     "name": "stderr",
     "output_type": "stream",
     "text": [
      "D:\\E\\anaconda\\lib\\site-packages\\sklearn\\preprocessing\\data.py:334: DataConversionWarning: Data with input dtype int64, float64 were all converted to float64 by MinMaxScaler.\n",
      "  return self.partial_fit(X, y)\n"
     ]
    }
   ],
   "source": [
    "scaler_x = MinMaxScaler()\n",
    "scaler_x.fit(X)\n",
    "xscale=scaler_x.transform(X)"
   ]
  },
  {
   "cell_type": "markdown",
   "metadata": {
    "colab_type": "text",
    "id": "8cfGqUoLrlny"
   },
   "source": [
    "# **Sequential** **Model**"
   ]
  },
  {
   "cell_type": "code",
   "execution_count": 9,
   "metadata": {
    "colab": {
     "base_uri": "https://localhost:8080/",
     "height": 306
    },
    "colab_type": "code",
    "id": "VBkMQw731vMc",
    "outputId": "ac25229d-9d7e-4cdf-a6d7-2b277bef4a36"
   },
   "outputs": [
    {
     "name": "stdout",
     "output_type": "stream",
     "text": [
      "WARNING:tensorflow:From D:\\E\\anaconda\\lib\\site-packages\\tensorflow\\python\\framework\\op_def_library.py:263: colocate_with (from tensorflow.python.framework.ops) is deprecated and will be removed in a future version.\n",
      "Instructions for updating:\n",
      "Colocations handled automatically by placer.\n",
      "_________________________________________________________________\n",
      "Layer (type)                 Output Shape              Param #   \n",
      "=================================================================\n",
      "dense_1 (Dense)              (None, 12)                336       \n",
      "_________________________________________________________________\n",
      "dense_2 (Dense)              (None, 8)                 104       \n",
      "_________________________________________________________________\n",
      "dense_3 (Dense)              (None, 1)                 9         \n",
      "=================================================================\n",
      "Total params: 449\n",
      "Trainable params: 449\n",
      "Non-trainable params: 0\n",
      "_________________________________________________________________\n"
     ]
    }
   ],
   "source": [
    "model = Sequential()\n",
    "model.add(Dense(12, input_dim=27, kernel_initializer='normal'))\n",
    "model.add(Dense(8, activation='relu'))\n",
    "model.add(Dense(1, activation='linear'))\n",
    "model.summary()"
   ]
  },
  {
   "cell_type": "code",
   "execution_count": 10,
   "metadata": {
    "colab": {},
    "colab_type": "code",
    "id": "HqP0pJVA1yNk"
   },
   "outputs": [],
   "source": [
    "model.compile(loss='mse', optimizer='adam', metrics=['mse','mae'])"
   ]
  },
  {
   "cell_type": "code",
   "execution_count": 11,
   "metadata": {
    "colab": {
     "base_uri": "https://localhost:8080/",
     "height": 1767
    },
    "colab_type": "code",
    "id": "vzL2zgdk11HU",
    "outputId": "7fdae6b9-6dae-4726-f9ae-0664f3c3b3d8"
   },
   "outputs": [
    {
     "name": "stdout",
     "output_type": "stream",
     "text": [
      "WARNING:tensorflow:From D:\\E\\anaconda\\lib\\site-packages\\tensorflow\\python\\ops\\math_ops.py:3066: to_int32 (from tensorflow.python.ops.math_ops) is deprecated and will be removed in a future version.\n",
      "Instructions for updating:\n",
      "Use tf.cast instead.\n",
      "Epoch 1/10\n",
      "40000/40000 [==============================] - 2s 55us/step - loss: 4.3066e-05 - mean_squared_error: 4.3066e-05 - mean_absolute_error: 0.0017\n",
      "Epoch 2/10\n",
      "40000/40000 [==============================] - 1s 35us/step - loss: 1.6110e-06 - mean_squared_error: 1.6110e-06 - mean_absolute_error: 6.3235e-04\n",
      "Epoch 3/10\n",
      "40000/40000 [==============================] - 1s 35us/step - loss: 1.5408e-06 - mean_squared_error: 1.5408e-06 - mean_absolute_error: 6.2100e-04\n",
      "Epoch 4/10\n",
      "40000/40000 [==============================] - 1s 35us/step - loss: 1.5116e-06 - mean_squared_error: 1.5116e-06 - mean_absolute_error: 6.3048e-04\n",
      "Epoch 5/10\n",
      "40000/40000 [==============================] - 1s 35us/step - loss: 1.4841e-06 - mean_squared_error: 1.4841e-06 - mean_absolute_error: 6.3133e-04\n",
      "Epoch 6/10\n",
      "40000/40000 [==============================] - 2s 38us/step - loss: 1.4597e-06 - mean_squared_error: 1.4597e-06 - mean_absolute_error: 6.3228e-04\n",
      "Epoch 7/10\n",
      "40000/40000 [==============================] - 1s 36us/step - loss: 1.4814e-06 - mean_squared_error: 1.4814e-06 - mean_absolute_error: 6.4295e-04\n",
      "Epoch 8/10\n",
      "40000/40000 [==============================] - 1s 35us/step - loss: 1.4780e-06 - mean_squared_error: 1.4780e-06 - mean_absolute_error: 6.5096e-04\n",
      "Epoch 9/10\n",
      "40000/40000 [==============================] - 1s 29us/step - loss: 1.4486e-06 - mean_squared_error: 1.4486e-06 - mean_absolute_error: 6.4022e-04\n",
      "Epoch 10/10\n",
      "40000/40000 [==============================] - 1s 35us/step - loss: 1.4983e-06 - mean_squared_error: 1.4983e-06 - mean_absolute_error: 6.6078e-04\n"
     ]
    }
   ],
   "source": [
    "history = model.fit(xscale, Y,epochs=10, batch_size=50)"
   ]
  },
  {
   "cell_type": "code",
   "execution_count": 12,
   "metadata": {
    "colab": {
     "base_uri": "https://localhost:8080/",
     "height": 295
    },
    "colab_type": "code",
    "id": "-tHKJACl16YG",
    "outputId": "184adad4-af49-4e64-f468-1ad1f35715ac"
   },
   "outputs": [
    {
     "data": {
      "image/png": "[encoded data removed]",
      "text/plain": [
       "<Figure size 432x288 with 1 Axes>"
      ]
     },
     "metadata": {
      "needs_background": "light"
     },
     "output_type": "display_data"
    }
   ],
   "source": [
    "plt.plot(history.history['loss'])\n",
    "plt.title('model loss')\n",
    "plt.ylabel('loss')\n",
    "plt.xlabel('epoch')\n",
    "plt.legend(['train'], loc='upper left')\n",
    "plt.show()"
   ]
  },
  {
   "cell_type": "code",
   "execution_count": 13,
   "metadata": {
    "colab": {},
    "colab_type": "code",
    "id": "TszEgxy-19uC"
   },
   "outputs": [],
   "source": [
    "dataset2 = pd.read_csv('C:/Users/Krishna Veer Singh/Downloads/Winton_Stock_Prediction/test_2.csv')\n",
    "dataset2.fillna(dataset.mean(axis=0), inplace=True)"
   ]
  },
  {
   "cell_type": "code",
   "execution_count": 14,
   "metadata": {
    "colab": {},
    "colab_type": "code",
    "id": "SAzPhjSg2Bme",
    "outputId": "96a18499-dafa-466e-8058-ad96dd4d7e31"
   },
   "outputs": [
    {
     "name": "stderr",
     "output_type": "stream",
     "text": [
      "D:\\E\\anaconda\\lib\\site-packages\\sklearn\\preprocessing\\data.py:334: DataConversionWarning: Data with input dtype int64, float64 were all converted to float64 by MinMaxScaler.\n",
      "  return self.partial_fit(X, y)\n"
     ]
    },
    {
     "data": {
      "text/plain": [
       "(120000, 27)"
      ]
     },
     "execution_count": 14,
     "metadata": {},
     "output_type": "execute_result"
    }
   ],
   "source": [
    "Xnew = dataset2.iloc[:,0:27] \n",
    "ynew = dataset2.iloc[:,145]\n",
    "scaler_x= MinMaxScaler()\n",
    "scaler_x.fit(Xnew)\n",
    "xscale=scaler_x.transform(Xnew)\n",
    "Ynew = model.predict(xscale)\n",
    "Xnew.shape"
   ]
  },
  {
   "cell_type": "code",
   "execution_count": 15,
   "metadata": {
    "colab": {
     "base_uri": "https://localhost:8080/",
     "height": 235
    },
    "colab_type": "code",
    "id": "F8Kz0CITLQKb",
    "outputId": "667bcf26-5958-4212-babf-6357ec6a2699"
   },
   "outputs": [
    {
     "data": {
      "text/plain": [
       "array([[0.        , 0.63767922, 0.49419209, ..., 0.26685367, 0.37411451,\n",
       "        0.23967485],\n",
       "       [0.28780553, 0.4410457 , 0.6016862 , ..., 0.21975195, 0.39408551,\n",
       "        0.2328154 ],\n",
       "       [0.28780553, 0.37808232, 0.62049203, ..., 0.2844762 , 0.35567051,\n",
       "        0.21862685],\n",
       "       ...,\n",
       "       [0.        , 0.31668685, 0.59710312, ..., 0.17318527, 0.36749732,\n",
       "        0.21286253],\n",
       "       [0.22222222, 0.34397116, 0.6690157 , ..., 0.20300628, 0.37690635,\n",
       "        0.22924215],\n",
       "       [0.28780553, 0.4410457 , 0.51376166, ..., 0.2919293 , 0.38575556,\n",
       "        0.24121012]])"
      ]
     },
     "execution_count": 15,
     "metadata": {},
     "output_type": "execute_result"
    }
   ],
   "source": [
    "xscale"
   ]
  },
  {
   "cell_type": "code",
   "execution_count": 16,
   "metadata": {
    "colab": {
     "base_uri": "https://localhost:8080/",
     "height": 34
    },
    "colab_type": "code",
    "id": "sFhxmu_JLnEF",
    "outputId": "2360d227-9663-40bd-9cec-12beaadc1e91"
   },
   "outputs": [
    {
     "data": {
      "text/plain": [
       "(120000, 27)"
      ]
     },
     "execution_count": 16,
     "metadata": {},
     "output_type": "execute_result"
    }
   ],
   "source": [
    "xscale.shape"
   ]
  },
  {
   "cell_type": "code",
   "execution_count": 17,
   "metadata": {
    "colab": {
     "base_uri": "https://localhost:8080/",
     "height": 134
    },
    "colab_type": "code",
    "id": "WrKIvd0qLQP7",
    "outputId": "4c6dfc1d-9372-4907-e32b-b7c78a8f11af"
   },
   "outputs": [
    {
     "data": {
      "text/plain": [
       "array([[-0.00021422],\n",
       "       [-0.00021422],\n",
       "       [-0.00021422],\n",
       "       ...,\n",
       "       [-0.00021422],\n",
       "       [-0.00021422],\n",
       "       [-0.00021422]], dtype=float32)"
      ]
     },
     "execution_count": 17,
     "metadata": {},
     "output_type": "execute_result"
    }
   ],
   "source": [
    "Ynew"
   ]
  },
  {
   "cell_type": "code",
   "execution_count": 18,
   "metadata": {
    "colab": {
     "base_uri": "https://localhost:8080/",
     "height": 34
    },
    "colab_type": "code",
    "id": "38YNdRtsLtDL",
    "outputId": "73ecedef-3264-4526-8628-b507b8e4d621"
   },
   "outputs": [
    {
     "data": {
      "text/plain": [
       "(120000, 1)"
      ]
     },
     "execution_count": 18,
     "metadata": {},
     "output_type": "execute_result"
    }
   ],
   "source": [
    "Ynew.shape"
   ]
  },
  {
   "cell_type": "code",
   "execution_count": 19,
   "metadata": {
    "colab": {
     "base_uri": "https://localhost:8080/",
     "height": 413
    },
    "colab_type": "code",
    "id": "Z-yIuGx12DZq",
    "outputId": "d9f1da70-8065-4366-9c03-1f32d31e96a8"
   },
   "outputs": [
    {
     "data": {
      "image/png": "[encoded data removed]",
      "text/plain": [
       "<Figure size 432x288 with 1 Axes>"
      ]
     },
     "metadata": {
      "needs_background": "light"
     },
     "output_type": "display_data"
    },
    {
     "data": {
      "text/plain": [
       "array([[-0.00021422],\n",
       "       [-0.00021422],\n",
       "       [-0.00021422],\n",
       "       ...,\n",
       "       [-0.00021422],\n",
       "       [-0.00021422],\n",
       "       [-0.00021422]], dtype=float32)"
      ]
     },
     "execution_count": 19,
     "metadata": {},
     "output_type": "execute_result"
    }
   ],
   "source": [
    "plt.plot(Ynew)\n",
    "plt.plot(ynew)\n",
    "plt.title('model loss')\n",
    "plt.ylabel('Value')\n",
    "plt.xlabel('Data Points')\n",
    "plt.legend(['Predicted','Real'], loc='upper left')\n",
    "plt.show()\n",
    "Ynew\n"
   ]
  },
  {
   "cell_type": "markdown",
   "metadata": {
    "colab_type": "text",
    "id": "Yqz-gSvsr4jJ"
   },
   "source": [
    "# *XgBoost*"
   ]
  },
  {
   "cell_type": "code",
   "execution_count": 20,
   "metadata": {
    "colab": {},
    "colab_type": "code",
    "id": "PEPhCB2Czyin"
   },
   "outputs": [],
   "source": [
    "import xgboost as xgb\n",
    "from sklearn.metrics import accuracy_score\n"
   ]
  },
  {
   "cell_type": "code",
   "execution_count": 21,
   "metadata": {
    "colab": {},
    "colab_type": "code",
    "id": "ZUGR6hi62FxC"
   },
   "outputs": [],
   "source": [
    "n_folds = 5\n",
    "\n",
    "def rmsle_cv(model):\n",
    "    rmse= numpy.sqrt(-cross_val_score(model, X, Y, scoring=\"neg_mean_squared_error\"))\n",
    "    return(rmse)"
   ]
  },
  {
   "cell_type": "code",
   "execution_count": 22,
   "metadata": {
    "colab": {},
    "colab_type": "code",
    "id": "ETlyjTdZzhxG"
   },
   "outputs": [],
   "source": [
    "model_xgb = xgb.XGBRegressor(colsample_bytree=0.4603, gamma=0.0468, \n",
    "                             learning_rate=0.05, max_depth=3, \n",
    "                             min_child_weight=1.7817, n_estimators=2200,\n",
    "                             reg_alpha=0.4640, reg_lambda=0.8571,\n",
    "                             subsample=0.5213, silent=1,\n",
    "                             random_state =7, nthread = -1)\n"
   ]
  },
  {
   "cell_type": "code",
   "execution_count": 23,
   "metadata": {
    "colab": {
     "base_uri": "https://localhost:8080/",
     "height": 205
    },
    "colab_type": "code",
    "id": "_AG9EvwfzpQk",
    "outputId": "1eadda28-160b-479d-e1b1-ebdcbc04c382"
   },
   "outputs": [
    {
     "name": "stderr",
     "output_type": "stream",
     "text": [
      "D:\\E\\anaconda\\lib\\site-packages\\sklearn\\model_selection\\_split.py:2053: FutureWarning: You should specify a value for 'cv' instead of relying on the default value. The default value will change from 3 to 5 in version 0.22.\n",
      "  warnings.warn(CV_WARNING, FutureWarning)\n",
      "D:\\E\\anaconda\\lib\\site-packages\\xgboost\\core.py:587: FutureWarning: Series.base is deprecated and will be removed in a future version\n",
      "  if getattr(data, 'base', None) is not None and \\\n",
      "D:\\E\\anaconda\\lib\\site-packages\\xgboost\\core.py:587: FutureWarning: Series.base is deprecated and will be removed in a future version\n",
      "  if getattr(data, 'base', None) is not None and \\\n",
      "D:\\E\\anaconda\\lib\\site-packages\\xgboost\\core.py:587: FutureWarning: Series.base is deprecated and will be removed in a future version\n",
      "  if getattr(data, 'base', None) is not None and \\\n"
     ]
    },
    {
     "name": "stdout",
     "output_type": "stream",
     "text": [
      "Xgboost score: 0.0012 (0.0002)\n",
      "\n"
     ]
    }
   ],
   "source": [
    "score = rmsle_cv(model_xgb)\n",
    "print(\"Xgboost score: {:.4f} ({:.4f})\\n\".format(score.mean(), score.std()))\n",
    "\n",
    "y_pred = model.predict(xscale)\n",
    "predictions = [numpy.round(value) for value in y_pred]"
   ]
  },
  {
   "cell_type": "code",
   "execution_count": 24,
   "metadata": {
    "colab": {},
    "colab_type": "code",
    "id": "4VWoYmMbrPVg"
   },
   "outputs": [],
   "source": [
    "import numpy as np\n",
    "import matplotlib.pyplot as plt\n",
    "import pandas as pd"
   ]
  },
  {
   "cell_type": "code",
   "execution_count": 25,
   "metadata": {
    "colab": {},
    "colab_type": "code",
    "id": "Usg8mi3rsEH2"
   },
   "outputs": [],
   "source": [
    "xscale = np.reshape(xscale, (xscale.shape[0], xscale.shape[1], 1))"
   ]
  },
  {
   "cell_type": "code",
   "execution_count": 26,
   "metadata": {
    "colab": {},
    "colab_type": "code",
    "id": "_IzMwH4tsJko"
   },
   "outputs": [],
   "source": [
    "from keras.models import Sequential\n",
    "from keras.layers import Dense\n",
    "from keras.layers import LSTM\n",
    "from keras.layers import Dropout\n"
   ]
  },
  {
   "cell_type": "markdown",
   "metadata": {
    "colab_type": "text",
    "id": "QBYdQbyysDsO"
   },
   "source": [
    "# **LSTM Model**"
   ]
  },
  {
   "cell_type": "code",
   "execution_count": 27,
   "metadata": {
    "colab": {
     "base_uri": "https://localhost:8080/",
     "height": 87
    },
    "colab_type": "code",
    "id": "R8K2PCHjrLIi",
    "outputId": "342cdb73-3be4-47d0-80cb-743ce23141fb"
   },
   "outputs": [
    {
     "name": "stdout",
     "output_type": "stream",
     "text": [
      "WARNING:tensorflow:From D:\\E\\anaconda\\lib\\site-packages\\keras\\backend\\tensorflow_backend.py:3445: calling dropout (from tensorflow.python.ops.nn_ops) with keep_prob is deprecated and will be removed in a future version.\n",
      "Instructions for updating:\n",
      "Please use `rate` instead of `keep_prob`. Rate should be set to `rate = 1 - keep_prob`.\n"
     ]
    }
   ],
   "source": [
    "regressor = Sequential()\n",
    "\n",
    "regressor.add(LSTM(units = 10, return_sequences = True, input_shape = (xscale.shape[1], 1)))\n",
    "regressor.add(Dropout(0.025))\n",
    "\n",
    "regressor.add(LSTM(units = 10, return_sequences = True))\n",
    "regressor.add(Dropout(0.025))\n",
    "\n",
    "regressor.add(LSTM(units = 10, return_sequences = True))\n",
    "regressor.add(Dropout(0.025))\n",
    "\n",
    "regressor.add(LSTM(units = 10))\n",
    "regressor.add(Dropout(0.025))\n",
    "\n",
    "regressor.add(Dense(units = 1))\n"
   ]
  },
  {
   "cell_type": "code",
   "execution_count": 30,
   "metadata": {
    "colab": {},
    "colab_type": "code",
    "id": "zX3OvJ8H_m1P"
   },
   "outputs": [],
   "source": [
    "regressor.compile(optimizer = 'adam', loss = 'mean_squared_error' ,metrics=['mae'])"
   ]
  },
  {
   "cell_type": "code",
   "execution_count": 31,
   "metadata": {
    "colab": {
     "base_uri": "https://localhost:8080/",
     "height": 3377
    },
    "colab_type": "code",
    "id": "X32Xik9Trhwe",
    "outputId": "f05a3a42-45fb-4013-db5f-56a774afc2f0"
   },
   "outputs": [
    {
     "name": "stdout",
     "output_type": "stream",
     "text": [
      "Epoch 1/5\n",
      "120000/120000 [==============================] - 149s 1ms/step - loss: 1.1931e-06 - mean_absolute_error: 6.6594e-04:  - ETA: 3\n",
      "Epoch 2/5\n",
      "120000/120000 [==============================] - 144s 1ms/step - loss: 1.1512e-06 - mean_absolute_error: 6.3822e-04 ETA: 3s - loss: 1.1 - ETA: 1s - loss: 1.1507e-06 - mean_absolu\n",
      "Epoch 3/5\n",
      "120000/120000 [==============================] - 143s 1ms/step - loss: 1.1383e-06 - mean_absolute_error: 6.2927e-04 7s - loss: 1.1289e-06 - m - ETA: 5s - loss: 1.1382e-06 - mean_absolute_ - ETA: 4s - loss: 1.1363e-06 - mean_ab - ETA: 2s - loss: 1.1373e-06 - mean_absolu - ETA: 1s - loss: 1.1385e-06 - mean_ab - ETA: 0s - loss: 1.1379e-06 - mean_absolute_error: 6.2922e-0\n",
      "Epoch 4/5\n",
      "120000/120000 [==============================] - 142s 1ms/step - loss: 1.1455e-06 - mean_absolute_error: 6.3429e-04 \n",
      "Epoch 5/5\n",
      "120000/120000 [==============================] - 142s 1ms/step - loss: 1.1367e-06 - mean_absolute_error: 6.2772e-04\n"
     ]
    }
   ],
   "source": [
    "regressor.fit(xscale, ynew, epochs = 5, batch_size = 50)\n",
    "xscale= np.reshape(xscale, (xscale.shape[0], xscale.shape[1], 1))\n",
    "predicted_stock_price = regressor.predict(xscale)\n"
   ]
  },
  {
   "cell_type": "code",
   "execution_count": 32,
   "metadata": {
    "colab": {},
    "colab_type": "code",
    "id": "WE2BofHdsIf_"
   },
   "outputs": [
    {
     "data": {
      "image/png": "[encoded data removed]",
      "text/plain": [
       "<Figure size 432x288 with 1 Axes>"
      ]
     },
     "metadata": {
      "needs_background": "light"
     },
     "output_type": "display_data"
    },
    {
     "data": {
      "text/plain": [
       "array([[-7.3102769e-05],\n",
       "       [-7.2963398e-05],\n",
       "       [-7.3111034e-05],\n",
       "       ...,\n",
       "       [-7.3546216e-05],\n",
       "       [-7.2976523e-05],\n",
       "       [-7.3255818e-05]], dtype=float32)"
      ]
     },
     "execution_count": 32,
     "metadata": {},
     "output_type": "execute_result"
    }
   ],
   "source": [
    "plt.plot(predicted_stock_price)\n",
    "plt.plot(ynew)\n",
    "plt.title('model loss')\n",
    "plt.ylabel('Value')\n",
    "plt.xlabel('Data Points')\n",
    "plt.legend(['Predicted','Real'], loc='upper left')\n",
    "plt.show()\n",
    "\n",
    "predicted_stock_price\n"
   ]
  },
  {
   "cell_type": "code",
   "execution_count": 33,
   "metadata": {
    "colab": {},
    "colab_type": "code",
    "id": "cPAJVPDrAa7b"
   },
   "outputs": [
    {
     "data": {
      "text/plain": [
       "(40000, 210)"
      ]
     },
     "execution_count": 33,
     "metadata": {},
     "output_type": "execute_result"
    }
   ],
   "source": [
    "dataset.shape"
   ]
  },
  {
   "cell_type": "markdown",
   "metadata": {
    "colab_type": "text",
    "id": "flxOOk9UvWJi"
   },
   "source": [
    "***Changing Relative Datapoints***"
   ]
  },
  {
   "cell_type": "code",
   "execution_count": 34,
   "metadata": {
    "colab": {},
    "colab_type": "code",
    "id": "h-OaAsLrA4IQ"
   },
   "outputs": [
    {
     "data": {
      "text/plain": [
       "Index(['Ret_2', 'Ret_3', 'Ret_4', 'Ret_5', 'Ret_6', 'Ret_7', 'Ret_8', 'Ret_9',\n",
       "       'Ret_10', 'Ret_11',\n",
       "       ...\n",
       "       'Ret_170', 'Ret_171', 'Ret_172', 'Ret_173', 'Ret_174', 'Ret_175',\n",
       "       'Ret_176', 'Ret_177', 'Ret_178', 'Ret_179'],\n",
       "      dtype='object', length=178)"
      ]
     },
     "execution_count": 34,
     "metadata": {},
     "output_type": "execute_result"
    }
   ],
   "source": [
    "cols = dataset.columns\n",
    "index = cols[27:205]\n",
    "index"
   ]
  },
  {
   "cell_type": "code",
   "execution_count": 35,
   "metadata": {
    "colab": {},
    "colab_type": "code",
    "id": "R5EvPPtXA6CM"
   },
   "outputs": [
    {
     "data": {
      "text/plain": [
       "Index(['Ret_3', 'Ret_4', 'Ret_5', 'Ret_6', 'Ret_7', 'Ret_8', 'Ret_9', 'Ret_10',\n",
       "       'Ret_11', 'Ret_12',\n",
       "       ...\n",
       "       'Ret_171', 'Ret_172', 'Ret_173', 'Ret_174', 'Ret_175', 'Ret_176',\n",
       "       'Ret_177', 'Ret_178', 'Ret_179', 'Ret_180'],\n",
       "      dtype='object', length=178)"
      ]
     },
     "execution_count": 35,
     "metadata": {},
     "output_type": "execute_result"
    }
   ],
   "source": [
    "\n",
    "returns = cols[28:206]\n",
    "\n",
    "returns"
   ]
  },
  {
   "cell_type": "code",
   "execution_count": 36,
   "metadata": {
    "colab": {},
    "colab_type": "code",
    "id": "8KlvoF5A7I_M"
   },
   "outputs": [],
   "source": [
    "for i in range(118):\n",
    "  dataset[returns[i]] = dataset[returns[i]] +dataset[index[i]]"
   ]
  },
  {
   "cell_type": "code",
   "execution_count": 37,
   "metadata": {
    "colab": {},
    "colab_type": "code",
    "id": "ZTlxOasY7JmS"
   },
   "outputs": [
    {
     "data": {
      "text/html": [
       "<div>\n",
       "<style scoped>\n",
       "    .dataframe tbody tr th:only-of-type {\n",
       "        vertical-align: middle;\n",
       "    }\n",
       "\n",
       "    .dataframe tbody tr th {\n",
       "        vertical-align: top;\n",
       "    }\n",
       "\n",
       "    .dataframe thead th {\n",
       "        text-align: right;\n",
       "    }\n",
       "</style>\n",
       "<table border=\"1\" class=\"dataframe\">\n",
       "  <thead>\n",
       "    <tr style=\"text-align: right;\">\n",
       "      <th></th>\n",
       "      <th>Feature_1</th>\n",
       "      <th>Feature_2</th>\n",
       "      <th>Feature_3</th>\n",
       "      <th>Feature_4</th>\n",
       "      <th>Feature_5</th>\n",
       "      <th>Feature_6</th>\n",
       "      <th>Feature_7</th>\n",
       "      <th>Feature_8</th>\n",
       "      <th>Feature_9</th>\n",
       "      <th>Feature_10</th>\n",
       "      <th>...</th>\n",
       "      <th>Ret_175</th>\n",
       "      <th>Ret_176</th>\n",
       "      <th>Ret_177</th>\n",
       "      <th>Ret_178</th>\n",
       "      <th>Ret_179</th>\n",
       "      <th>Ret_180</th>\n",
       "      <th>Ret_PlusOne</th>\n",
       "      <th>Ret_PlusTwo</th>\n",
       "      <th>Weight_Intraday</th>\n",
       "      <th>Weight_Daily</th>\n",
       "    </tr>\n",
       "  </thead>\n",
       "  <tbody>\n",
       "    <tr>\n",
       "      <th>0</th>\n",
       "      <td>3.59025</td>\n",
       "      <td>-0.117558</td>\n",
       "      <td>0.558392</td>\n",
       "      <td>0.405572</td>\n",
       "      <td>8</td>\n",
       "      <td>0.430972</td>\n",
       "      <td>75751</td>\n",
       "      <td>0.2254</td>\n",
       "      <td>11.0</td>\n",
       "      <td>4.744703</td>\n",
       "      <td>...</td>\n",
       "      <td>-0.002688</td>\n",
       "      <td>0.002246</td>\n",
       "      <td>-0.000838</td>\n",
       "      <td>-6.953220e-04</td>\n",
       "      <td>0.000003</td>\n",
       "      <td>-0.001974</td>\n",
       "      <td>-0.019512</td>\n",
       "      <td>0.028846</td>\n",
       "      <td>1251507.966</td>\n",
       "      <td>1564384.957</td>\n",
       "    </tr>\n",
       "    <tr>\n",
       "      <th>1</th>\n",
       "      <td>3.59025</td>\n",
       "      <td>-0.117558</td>\n",
       "      <td>0.558392</td>\n",
       "      <td>0.405572</td>\n",
       "      <td>3</td>\n",
       "      <td>0.388896</td>\n",
       "      <td>17369</td>\n",
       "      <td>0.0166</td>\n",
       "      <td>13.0</td>\n",
       "      <td>4.744703</td>\n",
       "      <td>...</td>\n",
       "      <td>-0.000129</td>\n",
       "      <td>0.000123</td>\n",
       "      <td>0.000248</td>\n",
       "      <td>3.320000e-07</td>\n",
       "      <td>0.000003</td>\n",
       "      <td>0.000027</td>\n",
       "      <td>-0.002939</td>\n",
       "      <td>-0.010253</td>\n",
       "      <td>1733950.349</td>\n",
       "      <td>2167437.936</td>\n",
       "    </tr>\n",
       "    <tr>\n",
       "      <th>2</th>\n",
       "      <td>3.59025</td>\n",
       "      <td>-0.696727</td>\n",
       "      <td>0.739591</td>\n",
       "      <td>-0.167928</td>\n",
       "      <td>9</td>\n",
       "      <td>0.471947</td>\n",
       "      <td>8277</td>\n",
       "      <td>0.3650</td>\n",
       "      <td>9.0</td>\n",
       "      <td>5.000000</td>\n",
       "      <td>...</td>\n",
       "      <td>-0.000524</td>\n",
       "      <td>-0.000394</td>\n",
       "      <td>0.000116</td>\n",
       "      <td>5.322560e-04</td>\n",
       "      <td>0.000274</td>\n",
       "      <td>0.000784</td>\n",
       "      <td>-0.024791</td>\n",
       "      <td>0.015711</td>\n",
       "      <td>1529197.383</td>\n",
       "      <td>1911496.729</td>\n",
       "    </tr>\n",
       "    <tr>\n",
       "      <th>3</th>\n",
       "      <td>3.59025</td>\n",
       "      <td>-0.694350</td>\n",
       "      <td>1.568248</td>\n",
       "      <td>0.479073</td>\n",
       "      <td>5</td>\n",
       "      <td>0.120653</td>\n",
       "      <td>22508</td>\n",
       "      <td>0.2654</td>\n",
       "      <td>13.0</td>\n",
       "      <td>5.000000</td>\n",
       "      <td>...</td>\n",
       "      <td>0.000346</td>\n",
       "      <td>-0.000090</td>\n",
       "      <td>0.000288</td>\n",
       "      <td>-1.281100e-04</td>\n",
       "      <td>0.000074</td>\n",
       "      <td>0.000341</td>\n",
       "      <td>-0.005680</td>\n",
       "      <td>-0.002190</td>\n",
       "      <td>1711569.424</td>\n",
       "      <td>2139461.780</td>\n",
       "    </tr>\n",
       "    <tr>\n",
       "      <th>4</th>\n",
       "      <td>6.00000</td>\n",
       "      <td>-1.736489</td>\n",
       "      <td>2.765531</td>\n",
       "      <td>1.245280</td>\n",
       "      <td>7</td>\n",
       "      <td>4.866985</td>\n",
       "      <td>22423</td>\n",
       "      <td>0.2138</td>\n",
       "      <td>13.0</td>\n",
       "      <td>4.000000</td>\n",
       "      <td>...</td>\n",
       "      <td>-0.001235</td>\n",
       "      <td>0.000027</td>\n",
       "      <td>0.002449</td>\n",
       "      <td>8.620000e-06</td>\n",
       "      <td>0.001209</td>\n",
       "      <td>-0.000004</td>\n",
       "      <td>0.036104</td>\n",
       "      <td>-0.026552</td>\n",
       "      <td>1267270.265</td>\n",
       "      <td>1584087.831</td>\n",
       "    </tr>\n",
       "  </tbody>\n",
       "</table>\n",
       "<p>5 rows × 210 columns</p>\n",
       "</div>"
      ],
      "text/plain": [
       "   Feature_1  Feature_2  Feature_3  Feature_4  Feature_5  Feature_6  \\\n",
       "0    3.59025  -0.117558   0.558392   0.405572          8   0.430972   \n",
       "1    3.59025  -0.117558   0.558392   0.405572          3   0.388896   \n",
       "2    3.59025  -0.696727   0.739591  -0.167928          9   0.471947   \n",
       "3    3.59025  -0.694350   1.568248   0.479073          5   0.120653   \n",
       "4    6.00000  -1.736489   2.765531   1.245280          7   4.866985   \n",
       "\n",
       "   Feature_7  Feature_8  Feature_9  Feature_10  ...   Ret_175   Ret_176  \\\n",
       "0      75751     0.2254       11.0    4.744703  ... -0.002688  0.002246   \n",
       "1      17369     0.0166       13.0    4.744703  ... -0.000129  0.000123   \n",
       "2       8277     0.3650        9.0    5.000000  ... -0.000524 -0.000394   \n",
       "3      22508     0.2654       13.0    5.000000  ...  0.000346 -0.000090   \n",
       "4      22423     0.2138       13.0    4.000000  ... -0.001235  0.000027   \n",
       "\n",
       "    Ret_177       Ret_178   Ret_179   Ret_180  Ret_PlusOne  Ret_PlusTwo  \\\n",
       "0 -0.000838 -6.953220e-04  0.000003 -0.001974    -0.019512     0.028846   \n",
       "1  0.000248  3.320000e-07  0.000003  0.000027    -0.002939    -0.010253   \n",
       "2  0.000116  5.322560e-04  0.000274  0.000784    -0.024791     0.015711   \n",
       "3  0.000288 -1.281100e-04  0.000074  0.000341    -0.005680    -0.002190   \n",
       "4  0.002449  8.620000e-06  0.001209 -0.000004     0.036104    -0.026552   \n",
       "\n",
       "   Weight_Intraday  Weight_Daily  \n",
       "0      1251507.966   1564384.957  \n",
       "1      1733950.349   2167437.936  \n",
       "2      1529197.383   1911496.729  \n",
       "3      1711569.424   2139461.780  \n",
       "4      1267270.265   1584087.831  \n",
       "\n",
       "[5 rows x 210 columns]"
      ]
     },
     "execution_count": 37,
     "metadata": {},
     "output_type": "execute_result"
    }
   ],
   "source": [
    "dataset.head()"
   ]
  },
  {
   "cell_type": "code",
   "execution_count": 38,
   "metadata": {
    "colab": {},
    "colab_type": "code",
    "id": "4PkxqvK4HrJH"
   },
   "outputs": [],
   "source": [
    "xscale = np.reshape(xscale, (xscale.shape[0], xscale.shape[1], 1))"
   ]
  },
  {
   "cell_type": "code",
   "execution_count": 39,
   "metadata": {
    "colab": {},
    "colab_type": "code",
    "id": "hXSh3uQgHrJM"
   },
   "outputs": [],
   "source": [
    "from keras.models import Sequential\n",
    "from keras.layers import Dense\n",
    "from keras.layers import LSTM\n",
    "from keras.layers import Dropout\n"
   ]
  },
  {
   "cell_type": "markdown",
   "metadata": {
    "colab_type": "text",
    "id": "8mCAkBLDvnxI"
   },
   "source": [
    "# **LSTM** *After Changing Relative Datapoints*"
   ]
  },
  {
   "cell_type": "code",
   "execution_count": 40,
   "metadata": {
    "colab": {},
    "colab_type": "code",
    "id": "6Spx9D9pHrJO"
   },
   "outputs": [],
   "source": [
    "regressor = Sequential()\n",
    "\n",
    "regressor.add(LSTM(units = 10, return_sequences = True, input_shape = (xscale.shape[1], 1)))\n",
    "regressor.add(Dropout(0.025))\n",
    "\n",
    "regressor.add(LSTM(units = 10, return_sequences = True))\n",
    "regressor.add(Dropout(0.025))\n",
    "\n",
    "regressor.add(LSTM(units = 10, return_sequences = True))\n",
    "regressor.add(Dropout(0.025))\n",
    "\n",
    "regressor.add(LSTM(units = 10))\n",
    "regressor.add(Dropout(0.025))\n",
    "\n",
    "regressor.add(Dense(units = 1))\n"
   ]
  },
  {
   "cell_type": "code",
   "execution_count": 41,
   "metadata": {
    "colab": {},
    "colab_type": "code",
    "id": "GTjZenkeHrJS"
   },
   "outputs": [],
   "source": [
    "regressor.compile(optimizer = 'adam', loss = 'mean_squared_error' ,metrics=['mae'])"
   ]
  },
  {
   "cell_type": "code",
   "execution_count": 44,
   "metadata": {
    "colab": {},
    "colab_type": "code",
    "id": "U55A1BkqHrJU"
   },
   "outputs": [
    {
     "name": "stdout",
     "output_type": "stream",
     "text": [
      "Epoch 1/5\n",
      "120000/120000 [==============================] - 151s 1ms/step - loss: 1.1443e-06 - mean_absolute_error: 6.3390e-04\n",
      "Epoch 2/5\n",
      "120000/120000 [==============================] - 158s 1ms/step - loss: 1.1468e-06 - mean_absolute_error: 6.3615e-04\n",
      "Epoch 3/5\n",
      "120000/120000 [==============================] - 154s 1ms/step - loss: 1.1418e-06 - mean_absolute_error: 6.3160e-04\n",
      "Epoch 4/5\n",
      "120000/120000 [==============================] - 170s 1ms/step - loss: 1.1413e-06 - mean_absolute_error: 6.3093e-04\n",
      "Epoch 5/5\n",
      "120000/120000 [==============================] - 159s 1ms/step - loss: 1.1384e-06 - mean_absolute_error: 6.2925e-04 5s - loss: 1.1380e-06 - m - ETA: 3s - \n"
     ]
    }
   ],
   "source": [
    "regressor.fit(xscale,ynew, epochs = 5, batch_size = 50)\n",
    "xscale = np.reshape(xscale, (xscale.shape[0], xscale.shape[1], 1))\n",
    "predicted_stock_price1 = regressor.predict(xscale)\n"
   ]
  },
  {
   "cell_type": "code",
   "execution_count": 45,
   "metadata": {
    "colab": {},
    "colab_type": "code",
    "id": "FDB1DeR9HrJW"
   },
   "outputs": [
    {
     "data": {
      "image/png": "[encoded data removed]",
      "text/plain": [
       "<Figure size 432x288 with 1 Axes>"
      ]
     },
     "metadata": {
      "needs_background": "light"
     },
     "output_type": "display_data"
    },
    {
     "data": {
      "text/plain": [
       "array([[-0.00036464],\n",
       "       [-0.00036447],\n",
       "       [-0.00036501],\n",
       "       ...,\n",
       "       [-0.00036614],\n",
       "       [-0.00036465],\n",
       "       [-0.00036533]], dtype=float32)"
      ]
     },
     "execution_count": 45,
     "metadata": {},
     "output_type": "execute_result"
    }
   ],
   "source": [
    "plt.plot(predicted_stock_price1)\n",
    "plt.plot(ynew)\n",
    "plt.title('model loss')\n",
    "plt.ylabel('Value')\n",
    "plt.xlabel('Data Points')\n",
    "plt.legend(['Predicted','Real'], loc='upper left')\n",
    "plt.show()\n",
    "\n",
    "predicted_stock_price1\n"
   ]
  },
  {
   "cell_type": "markdown",
   "metadata": {
    "colab_type": "text",
    "id": "z7TH1Ud8vrUE"
   },
   "source": [
    "**Collecting** **Data**"
   ]
  },
  {
   "cell_type": "code",
   "execution_count": 46,
   "metadata": {
    "colab": {},
    "colab_type": "code",
    "id": "OBhHc9yTISnE"
   },
   "outputs": [],
   "source": [
    "rows = zip(ynew,Ynew,predicted_stock_price,predicted_stock_price1 )\n",
    "import csv\n",
    "\n",
    "with open('new2.csv', \"w\") as f:\n",
    "    writer = csv.writer(f)\n",
    "    writer.writerow((\"Actual Value\", \"Sequential Predicted Value\", \"LSTM Predicted Value\", \"Relative LSTM Predicted Value\"))\n",
    "    for row in rows:\n",
    "      writer.writerow(row)"
   ]
  },
  {
   "cell_type": "code",
   "execution_count": 47,
   "metadata": {
    "colab": {},
    "colab_type": "code",
    "id": "IDDNw0fxK9EM"
   },
   "outputs": [
    {
     "data": {
      "text/html": [
       "<div>\n",
       "<style scoped>\n",
       "    .dataframe tbody tr th:only-of-type {\n",
       "        vertical-align: middle;\n",
       "    }\n",
       "\n",
       "    .dataframe tbody tr th {\n",
       "        vertical-align: top;\n",
       "    }\n",
       "\n",
       "    .dataframe thead th {\n",
       "        text-align: right;\n",
       "    }\n",
       "</style>\n",
       "<table border=\"1\" class=\"dataframe\">\n",
       "  <thead>\n",
       "    <tr style=\"text-align: right;\">\n",
       "      <th></th>\n",
       "      <th>Actual Value</th>\n",
       "      <th>Sequential Predicted Value</th>\n",
       "      <th>LSTM Predicted Value</th>\n",
       "      <th>Relative LSTM Predicted Value</th>\n",
       "    </tr>\n",
       "  </thead>\n",
       "  <tbody>\n",
       "    <tr>\n",
       "      <th>0</th>\n",
       "      <td>7.593330e-04</td>\n",
       "      <td>[-0.00021422]</td>\n",
       "      <td>[-7.310277e-05]</td>\n",
       "      <td>[-0.00036464]</td>\n",
       "    </tr>\n",
       "    <tr>\n",
       "      <th>1</th>\n",
       "      <td>-1.190000e-05</td>\n",
       "      <td>[-0.00021422]</td>\n",
       "      <td>[-7.29634e-05]</td>\n",
       "      <td>[-0.00036447]</td>\n",
       "    </tr>\n",
       "    <tr>\n",
       "      <th>2</th>\n",
       "      <td>-6.180000e-06</td>\n",
       "      <td>[-0.00021422]</td>\n",
       "      <td>[-7.3111034e-05]</td>\n",
       "      <td>[-0.00036501]</td>\n",
       "    </tr>\n",
       "    <tr>\n",
       "      <th>3</th>\n",
       "      <td>-1.849550e-03</td>\n",
       "      <td>[-0.00021422]</td>\n",
       "      <td>[-7.294129e-05]</td>\n",
       "      <td>[-0.00036454]</td>\n",
       "    </tr>\n",
       "    <tr>\n",
       "      <th>4</th>\n",
       "      <td>-1.143280e-04</td>\n",
       "      <td>[-0.00021422]</td>\n",
       "      <td>[-7.272954e-05]</td>\n",
       "      <td>[-0.00036421]</td>\n",
       "    </tr>\n",
       "    <tr>\n",
       "      <th>5</th>\n",
       "      <td>9.840000e-06</td>\n",
       "      <td>[-0.00021422]</td>\n",
       "      <td>[-7.240963e-05]</td>\n",
       "      <td>[-0.00036297]</td>\n",
       "    </tr>\n",
       "    <tr>\n",
       "      <th>6</th>\n",
       "      <td>-1.755701e-03</td>\n",
       "      <td>[-0.00021422]</td>\n",
       "      <td>[-7.332105e-05]</td>\n",
       "      <td>[-0.0003655]</td>\n",
       "    </tr>\n",
       "    <tr>\n",
       "      <th>7</th>\n",
       "      <td>4.195630e-04</td>\n",
       "      <td>[-0.00021422]</td>\n",
       "      <td>[-7.333259e-05]</td>\n",
       "      <td>[-0.00036558]</td>\n",
       "    </tr>\n",
       "    <tr>\n",
       "      <th>8</th>\n",
       "      <td>-6.519330e-04</td>\n",
       "      <td>[-0.00021422]</td>\n",
       "      <td>[-7.324086e-05]</td>\n",
       "      <td>[-0.00036528]</td>\n",
       "    </tr>\n",
       "    <tr>\n",
       "      <th>9</th>\n",
       "      <td>1.710000e-05</td>\n",
       "      <td>[-0.00021422]</td>\n",
       "      <td>[-7.309102e-05]</td>\n",
       "      <td>[-0.00036508]</td>\n",
       "    </tr>\n",
       "    <tr>\n",
       "      <th>10</th>\n",
       "      <td>-6.880000e-06</td>\n",
       "      <td>[-0.00021422]</td>\n",
       "      <td>[-7.253301e-05]</td>\n",
       "      <td>[-0.00036364]</td>\n",
       "    </tr>\n",
       "    <tr>\n",
       "      <th>11</th>\n",
       "      <td>1.500000e-05</td>\n",
       "      <td>[-0.00021422]</td>\n",
       "      <td>[-7.311445e-05]</td>\n",
       "      <td>[-0.00036505]</td>\n",
       "    </tr>\n",
       "    <tr>\n",
       "      <th>12</th>\n",
       "      <td>-3.975240e-04</td>\n",
       "      <td>[-0.00021422]</td>\n",
       "      <td>[-7.273549e-05]</td>\n",
       "      <td>[-0.00036397]</td>\n",
       "    </tr>\n",
       "    <tr>\n",
       "      <th>13</th>\n",
       "      <td>7.760000e-06</td>\n",
       "      <td>[-0.00021422]</td>\n",
       "      <td>[-7.327113e-05]</td>\n",
       "      <td>[-0.00036564]</td>\n",
       "    </tr>\n",
       "    <tr>\n",
       "      <th>14</th>\n",
       "      <td>-5.349200e-04</td>\n",
       "      <td>[-0.00021422]</td>\n",
       "      <td>[-7.323698e-05]</td>\n",
       "      <td>[-0.00036519]</td>\n",
       "    </tr>\n",
       "    <tr>\n",
       "      <th>15</th>\n",
       "      <td>2.353110e-04</td>\n",
       "      <td>[-0.00021422]</td>\n",
       "      <td>[-7.298089e-05]</td>\n",
       "      <td>[-0.00036473]</td>\n",
       "    </tr>\n",
       "    <tr>\n",
       "      <th>16</th>\n",
       "      <td>2.075910e-04</td>\n",
       "      <td>[-0.00021422]</td>\n",
       "      <td>[-7.3321164e-05]</td>\n",
       "      <td>[-0.0003655]</td>\n",
       "    </tr>\n",
       "    <tr>\n",
       "      <th>17</th>\n",
       "      <td>9.544100e-04</td>\n",
       "      <td>[-0.00021422]</td>\n",
       "      <td>[-7.348841e-05]</td>\n",
       "      <td>[-0.00036612]</td>\n",
       "    </tr>\n",
       "    <tr>\n",
       "      <th>18</th>\n",
       "      <td>2.488790e-04</td>\n",
       "      <td>[-0.00021422]</td>\n",
       "      <td>[-7.319751e-05]</td>\n",
       "      <td>[-0.00036525]</td>\n",
       "    </tr>\n",
       "    <tr>\n",
       "      <th>19</th>\n",
       "      <td>-3.400000e-06</td>\n",
       "      <td>[-0.00021422]</td>\n",
       "      <td>[-7.316066e-05]</td>\n",
       "      <td>[-0.00036527]</td>\n",
       "    </tr>\n",
       "    <tr>\n",
       "      <th>20</th>\n",
       "      <td>-1.249253e-03</td>\n",
       "      <td>[-0.00021422]</td>\n",
       "      <td>[-7.3316456e-05]</td>\n",
       "      <td>[-0.00036556]</td>\n",
       "    </tr>\n",
       "    <tr>\n",
       "      <th>21</th>\n",
       "      <td>2.110000e-05</td>\n",
       "      <td>[-0.00021422]</td>\n",
       "      <td>[-7.320404e-05]</td>\n",
       "      <td>[-0.00036529]</td>\n",
       "    </tr>\n",
       "    <tr>\n",
       "      <th>22</th>\n",
       "      <td>-1.150051e-03</td>\n",
       "      <td>[-0.00021422]</td>\n",
       "      <td>[-7.28095e-05]</td>\n",
       "      <td>[-0.0003645]</td>\n",
       "    </tr>\n",
       "    <tr>\n",
       "      <th>23</th>\n",
       "      <td>-4.539670e-04</td>\n",
       "      <td>[-0.00021422]</td>\n",
       "      <td>[-7.315714e-05]</td>\n",
       "      <td>[-0.00036496]</td>\n",
       "    </tr>\n",
       "    <tr>\n",
       "      <th>24</th>\n",
       "      <td>7.241590e-04</td>\n",
       "      <td>[-0.00021422]</td>\n",
       "      <td>[-7.2945186e-05]</td>\n",
       "      <td>[-0.00036463]</td>\n",
       "    </tr>\n",
       "    <tr>\n",
       "      <th>25</th>\n",
       "      <td>-1.316290e-04</td>\n",
       "      <td>[-0.00021422]</td>\n",
       "      <td>[-7.345291e-05]</td>\n",
       "      <td>[-0.00036579]</td>\n",
       "    </tr>\n",
       "    <tr>\n",
       "      <th>26</th>\n",
       "      <td>-7.546550e-04</td>\n",
       "      <td>[-0.00021422]</td>\n",
       "      <td>[-7.2839204e-05]</td>\n",
       "      <td>[-0.00036441]</td>\n",
       "    </tr>\n",
       "    <tr>\n",
       "      <th>27</th>\n",
       "      <td>2.122990e-04</td>\n",
       "      <td>[-0.00021422]</td>\n",
       "      <td>[-7.296165e-05]</td>\n",
       "      <td>[-0.00036462]</td>\n",
       "    </tr>\n",
       "    <tr>\n",
       "      <th>28</th>\n",
       "      <td>-1.570000e-05</td>\n",
       "      <td>[-0.00021422]</td>\n",
       "      <td>[-7.300476e-05]</td>\n",
       "      <td>[-0.00036464]</td>\n",
       "    </tr>\n",
       "    <tr>\n",
       "      <th>29</th>\n",
       "      <td>8.895750e-04</td>\n",
       "      <td>[-0.00021422]</td>\n",
       "      <td>[-7.294152e-05]</td>\n",
       "      <td>[-0.00036439]</td>\n",
       "    </tr>\n",
       "    <tr>\n",
       "      <th>...</th>\n",
       "      <td>...</td>\n",
       "      <td>...</td>\n",
       "      <td>...</td>\n",
       "      <td>...</td>\n",
       "    </tr>\n",
       "    <tr>\n",
       "      <th>119970</th>\n",
       "      <td>-1.160000e-05</td>\n",
       "      <td>[-0.00021422]</td>\n",
       "      <td>[-7.332968e-05]</td>\n",
       "      <td>[-0.00036546]</td>\n",
       "    </tr>\n",
       "    <tr>\n",
       "      <th>119971</th>\n",
       "      <td>-4.800000e-07</td>\n",
       "      <td>[-0.00021422]</td>\n",
       "      <td>[-7.34328e-05]</td>\n",
       "      <td>[-0.00036578]</td>\n",
       "    </tr>\n",
       "    <tr>\n",
       "      <th>119972</th>\n",
       "      <td>-3.740000e-06</td>\n",
       "      <td>[-0.00021422]</td>\n",
       "      <td>[-7.330602e-05]</td>\n",
       "      <td>[-0.00036527]</td>\n",
       "    </tr>\n",
       "    <tr>\n",
       "      <th>119973</th>\n",
       "      <td>4.242580e-04</td>\n",
       "      <td>[-0.00021422]</td>\n",
       "      <td>[-7.334974e-05]</td>\n",
       "      <td>[-0.00036559]</td>\n",
       "    </tr>\n",
       "    <tr>\n",
       "      <th>119974</th>\n",
       "      <td>-1.013082e-03</td>\n",
       "      <td>[-0.00021422]</td>\n",
       "      <td>[-7.259685e-05]</td>\n",
       "      <td>[-0.00036382]</td>\n",
       "    </tr>\n",
       "    <tr>\n",
       "      <th>119975</th>\n",
       "      <td>-1.110000e-05</td>\n",
       "      <td>[-0.00021422]</td>\n",
       "      <td>[-7.301203e-05]</td>\n",
       "      <td>[-0.00036458]</td>\n",
       "    </tr>\n",
       "    <tr>\n",
       "      <th>119976</th>\n",
       "      <td>-6.160000e-06</td>\n",
       "      <td>[-0.00021422]</td>\n",
       "      <td>[-7.2922485e-05]</td>\n",
       "      <td>[-0.00036452]</td>\n",
       "    </tr>\n",
       "    <tr>\n",
       "      <th>119977</th>\n",
       "      <td>6.766640e-04</td>\n",
       "      <td>[-0.00021422]</td>\n",
       "      <td>[-7.343943e-05]</td>\n",
       "      <td>[-0.00036586]</td>\n",
       "    </tr>\n",
       "    <tr>\n",
       "      <th>119978</th>\n",
       "      <td>-2.039000e-04</td>\n",
       "      <td>[-0.00021422]</td>\n",
       "      <td>[-7.3085524e-05]</td>\n",
       "      <td>[-0.00036461]</td>\n",
       "    </tr>\n",
       "    <tr>\n",
       "      <th>119979</th>\n",
       "      <td>3.879080e-04</td>\n",
       "      <td>[-0.00021422]</td>\n",
       "      <td>[-7.340557e-05]</td>\n",
       "      <td>[-0.0003658]</td>\n",
       "    </tr>\n",
       "    <tr>\n",
       "      <th>119980</th>\n",
       "      <td>-2.300000e-05</td>\n",
       "      <td>[-0.00021422]</td>\n",
       "      <td>[-7.307949e-05]</td>\n",
       "      <td>[-0.00036491]</td>\n",
       "    </tr>\n",
       "    <tr>\n",
       "      <th>119981</th>\n",
       "      <td>-2.500000e-06</td>\n",
       "      <td>[-0.00021422]</td>\n",
       "      <td>[-7.296215e-05]</td>\n",
       "      <td>[-0.00036487]</td>\n",
       "    </tr>\n",
       "    <tr>\n",
       "      <th>119982</th>\n",
       "      <td>9.384520e-04</td>\n",
       "      <td>[-0.00021422]</td>\n",
       "      <td>[-7.323088e-05]</td>\n",
       "      <td>[-0.00036534]</td>\n",
       "    </tr>\n",
       "    <tr>\n",
       "      <th>119983</th>\n",
       "      <td>-2.877470e-04</td>\n",
       "      <td>[-0.00021422]</td>\n",
       "      <td>[-7.290186e-05]</td>\n",
       "      <td>[-0.00036433]</td>\n",
       "    </tr>\n",
       "    <tr>\n",
       "      <th>119984</th>\n",
       "      <td>8.820000e-08</td>\n",
       "      <td>[-0.00021422]</td>\n",
       "      <td>[-7.325979e-05]</td>\n",
       "      <td>[-0.00036548]</td>\n",
       "    </tr>\n",
       "    <tr>\n",
       "      <th>119985</th>\n",
       "      <td>1.140000e-05</td>\n",
       "      <td>[-0.00021422]</td>\n",
       "      <td>[-7.301565e-05]</td>\n",
       "      <td>[-0.0003648]</td>\n",
       "    </tr>\n",
       "    <tr>\n",
       "      <th>119986</th>\n",
       "      <td>-3.082780e-04</td>\n",
       "      <td>[-0.00021422]</td>\n",
       "      <td>[-7.2883864e-05]</td>\n",
       "      <td>[-0.00036445]</td>\n",
       "    </tr>\n",
       "    <tr>\n",
       "      <th>119987</th>\n",
       "      <td>-1.777700e-04</td>\n",
       "      <td>[-0.00021422]</td>\n",
       "      <td>[-7.324314e-05]</td>\n",
       "      <td>[-0.00036536]</td>\n",
       "    </tr>\n",
       "    <tr>\n",
       "      <th>119988</th>\n",
       "      <td>6.099590e-04</td>\n",
       "      <td>[-0.00021422]</td>\n",
       "      <td>[-7.322722e-05]</td>\n",
       "      <td>[-0.00036516]</td>\n",
       "    </tr>\n",
       "    <tr>\n",
       "      <th>119989</th>\n",
       "      <td>1.583929e-03</td>\n",
       "      <td>[-0.00021422]</td>\n",
       "      <td>[-7.29193e-05]</td>\n",
       "      <td>[-0.00036437]</td>\n",
       "    </tr>\n",
       "    <tr>\n",
       "      <th>119990</th>\n",
       "      <td>-8.116940e-04</td>\n",
       "      <td>[-0.00021422]</td>\n",
       "      <td>[-7.339545e-05]</td>\n",
       "      <td>[-0.00036581]</td>\n",
       "    </tr>\n",
       "    <tr>\n",
       "      <th>119991</th>\n",
       "      <td>-4.822770e-04</td>\n",
       "      <td>[-0.00021422]</td>\n",
       "      <td>[-7.325714e-05]</td>\n",
       "      <td>[-0.00036553]</td>\n",
       "    </tr>\n",
       "    <tr>\n",
       "      <th>119992</th>\n",
       "      <td>5.492490e-04</td>\n",
       "      <td>[-0.00021422]</td>\n",
       "      <td>[-7.27583e-05]</td>\n",
       "      <td>[-0.00036415]</td>\n",
       "    </tr>\n",
       "    <tr>\n",
       "      <th>119993</th>\n",
       "      <td>2.280350e-04</td>\n",
       "      <td>[-0.00021422]</td>\n",
       "      <td>[-7.3080904e-05]</td>\n",
       "      <td>[-0.00036486]</td>\n",
       "    </tr>\n",
       "    <tr>\n",
       "      <th>119994</th>\n",
       "      <td>-2.988738e-03</td>\n",
       "      <td>[-0.00021422]</td>\n",
       "      <td>[-7.231538e-05]</td>\n",
       "      <td>[-0.00036293]</td>\n",
       "    </tr>\n",
       "    <tr>\n",
       "      <th>119995</th>\n",
       "      <td>1.637002e-03</td>\n",
       "      <td>[-0.00021422]</td>\n",
       "      <td>[-7.282497e-05]</td>\n",
       "      <td>[-0.00036425]</td>\n",
       "    </tr>\n",
       "    <tr>\n",
       "      <th>119996</th>\n",
       "      <td>4.263220e-04</td>\n",
       "      <td>[-0.00021422]</td>\n",
       "      <td>[-7.3506e-05]</td>\n",
       "      <td>[-0.00036599]</td>\n",
       "    </tr>\n",
       "    <tr>\n",
       "      <th>119997</th>\n",
       "      <td>-8.920180e-04</td>\n",
       "      <td>[-0.00021422]</td>\n",
       "      <td>[-7.3546216e-05]</td>\n",
       "      <td>[-0.00036614]</td>\n",
       "    </tr>\n",
       "    <tr>\n",
       "      <th>119998</th>\n",
       "      <td>4.770000e-06</td>\n",
       "      <td>[-0.00021422]</td>\n",
       "      <td>[-7.297652e-05]</td>\n",
       "      <td>[-0.00036465]</td>\n",
       "    </tr>\n",
       "    <tr>\n",
       "      <th>119999</th>\n",
       "      <td>2.203845e-03</td>\n",
       "      <td>[-0.00021422]</td>\n",
       "      <td>[-7.325582e-05]</td>\n",
       "      <td>[-0.00036533]</td>\n",
       "    </tr>\n",
       "  </tbody>\n",
       "</table>\n",
       "<p>120000 rows × 4 columns</p>\n",
       "</div>"
      ],
      "text/plain": [
       "        Actual Value Sequential Predicted Value LSTM Predicted Value  \\\n",
       "0       7.593330e-04              [-0.00021422]      [-7.310277e-05]   \n",
       "1      -1.190000e-05              [-0.00021422]       [-7.29634e-05]   \n",
       "2      -6.180000e-06              [-0.00021422]     [-7.3111034e-05]   \n",
       "3      -1.849550e-03              [-0.00021422]      [-7.294129e-05]   \n",
       "4      -1.143280e-04              [-0.00021422]      [-7.272954e-05]   \n",
       "5       9.840000e-06              [-0.00021422]      [-7.240963e-05]   \n",
       "6      -1.755701e-03              [-0.00021422]      [-7.332105e-05]   \n",
       "7       4.195630e-04              [-0.00021422]      [-7.333259e-05]   \n",
       "8      -6.519330e-04              [-0.00021422]      [-7.324086e-05]   \n",
       "9       1.710000e-05              [-0.00021422]      [-7.309102e-05]   \n",
       "10     -6.880000e-06              [-0.00021422]      [-7.253301e-05]   \n",
       "11      1.500000e-05              [-0.00021422]      [-7.311445e-05]   \n",
       "12     -3.975240e-04              [-0.00021422]      [-7.273549e-05]   \n",
       "13      7.760000e-06              [-0.00021422]      [-7.327113e-05]   \n",
       "14     -5.349200e-04              [-0.00021422]      [-7.323698e-05]   \n",
       "15      2.353110e-04              [-0.00021422]      [-7.298089e-05]   \n",
       "16      2.075910e-04              [-0.00021422]     [-7.3321164e-05]   \n",
       "17      9.544100e-04              [-0.00021422]      [-7.348841e-05]   \n",
       "18      2.488790e-04              [-0.00021422]      [-7.319751e-05]   \n",
       "19     -3.400000e-06              [-0.00021422]      [-7.316066e-05]   \n",
       "20     -1.249253e-03              [-0.00021422]     [-7.3316456e-05]   \n",
       "21      2.110000e-05              [-0.00021422]      [-7.320404e-05]   \n",
       "22     -1.150051e-03              [-0.00021422]       [-7.28095e-05]   \n",
       "23     -4.539670e-04              [-0.00021422]      [-7.315714e-05]   \n",
       "24      7.241590e-04              [-0.00021422]     [-7.2945186e-05]   \n",
       "25     -1.316290e-04              [-0.00021422]      [-7.345291e-05]   \n",
       "26     -7.546550e-04              [-0.00021422]     [-7.2839204e-05]   \n",
       "27      2.122990e-04              [-0.00021422]      [-7.296165e-05]   \n",
       "28     -1.570000e-05              [-0.00021422]      [-7.300476e-05]   \n",
       "29      8.895750e-04              [-0.00021422]      [-7.294152e-05]   \n",
       "...              ...                        ...                  ...   \n",
       "119970 -1.160000e-05              [-0.00021422]      [-7.332968e-05]   \n",
       "119971 -4.800000e-07              [-0.00021422]       [-7.34328e-05]   \n",
       "119972 -3.740000e-06              [-0.00021422]      [-7.330602e-05]   \n",
       "119973  4.242580e-04              [-0.00021422]      [-7.334974e-05]   \n",
       "119974 -1.013082e-03              [-0.00021422]      [-7.259685e-05]   \n",
       "119975 -1.110000e-05              [-0.00021422]      [-7.301203e-05]   \n",
       "119976 -6.160000e-06              [-0.00021422]     [-7.2922485e-05]   \n",
       "119977  6.766640e-04              [-0.00021422]      [-7.343943e-05]   \n",
       "119978 -2.039000e-04              [-0.00021422]     [-7.3085524e-05]   \n",
       "119979  3.879080e-04              [-0.00021422]      [-7.340557e-05]   \n",
       "119980 -2.300000e-05              [-0.00021422]      [-7.307949e-05]   \n",
       "119981 -2.500000e-06              [-0.00021422]      [-7.296215e-05]   \n",
       "119982  9.384520e-04              [-0.00021422]      [-7.323088e-05]   \n",
       "119983 -2.877470e-04              [-0.00021422]      [-7.290186e-05]   \n",
       "119984  8.820000e-08              [-0.00021422]      [-7.325979e-05]   \n",
       "119985  1.140000e-05              [-0.00021422]      [-7.301565e-05]   \n",
       "119986 -3.082780e-04              [-0.00021422]     [-7.2883864e-05]   \n",
       "119987 -1.777700e-04              [-0.00021422]      [-7.324314e-05]   \n",
       "119988  6.099590e-04              [-0.00021422]      [-7.322722e-05]   \n",
       "119989  1.583929e-03              [-0.00021422]       [-7.29193e-05]   \n",
       "119990 -8.116940e-04              [-0.00021422]      [-7.339545e-05]   \n",
       "119991 -4.822770e-04              [-0.00021422]      [-7.325714e-05]   \n",
       "119992  5.492490e-04              [-0.00021422]       [-7.27583e-05]   \n",
       "119993  2.280350e-04              [-0.00021422]     [-7.3080904e-05]   \n",
       "119994 -2.988738e-03              [-0.00021422]      [-7.231538e-05]   \n",
       "119995  1.637002e-03              [-0.00021422]      [-7.282497e-05]   \n",
       "119996  4.263220e-04              [-0.00021422]        [-7.3506e-05]   \n",
       "119997 -8.920180e-04              [-0.00021422]     [-7.3546216e-05]   \n",
       "119998  4.770000e-06              [-0.00021422]      [-7.297652e-05]   \n",
       "119999  2.203845e-03              [-0.00021422]      [-7.325582e-05]   \n",
       "\n",
       "       Relative LSTM Predicted Value  \n",
       "0                      [-0.00036464]  \n",
       "1                      [-0.00036447]  \n",
       "2                      [-0.00036501]  \n",
       "3                      [-0.00036454]  \n",
       "4                      [-0.00036421]  \n",
       "5                      [-0.00036297]  \n",
       "6                       [-0.0003655]  \n",
       "7                      [-0.00036558]  \n",
       "8                      [-0.00036528]  \n",
       "9                      [-0.00036508]  \n",
       "10                     [-0.00036364]  \n",
       "11                     [-0.00036505]  \n",
       "12                     [-0.00036397]  \n",
       "13                     [-0.00036564]  \n",
       "14                     [-0.00036519]  \n",
       "15                     [-0.00036473]  \n",
       "16                      [-0.0003655]  \n",
       "17                     [-0.00036612]  \n",
       "18                     [-0.00036525]  \n",
       "19                     [-0.00036527]  \n",
       "20                     [-0.00036556]  \n",
       "21                     [-0.00036529]  \n",
       "22                      [-0.0003645]  \n",
       "23                     [-0.00036496]  \n",
       "24                     [-0.00036463]  \n",
       "25                     [-0.00036579]  \n",
       "26                     [-0.00036441]  \n",
       "27                     [-0.00036462]  \n",
       "28                     [-0.00036464]  \n",
       "29                     [-0.00036439]  \n",
       "...                              ...  \n",
       "119970                 [-0.00036546]  \n",
       "119971                 [-0.00036578]  \n",
       "119972                 [-0.00036527]  \n",
       "119973                 [-0.00036559]  \n",
       "119974                 [-0.00036382]  \n",
       "119975                 [-0.00036458]  \n",
       "119976                 [-0.00036452]  \n",
       "119977                 [-0.00036586]  \n",
       "119978                 [-0.00036461]  \n",
       "119979                  [-0.0003658]  \n",
       "119980                 [-0.00036491]  \n",
       "119981                 [-0.00036487]  \n",
       "119982                 [-0.00036534]  \n",
       "119983                 [-0.00036433]  \n",
       "119984                 [-0.00036548]  \n",
       "119985                  [-0.0003648]  \n",
       "119986                 [-0.00036445]  \n",
       "119987                 [-0.00036536]  \n",
       "119988                 [-0.00036516]  \n",
       "119989                 [-0.00036437]  \n",
       "119990                 [-0.00036581]  \n",
       "119991                 [-0.00036553]  \n",
       "119992                 [-0.00036415]  \n",
       "119993                 [-0.00036486]  \n",
       "119994                 [-0.00036293]  \n",
       "119995                 [-0.00036425]  \n",
       "119996                 [-0.00036599]  \n",
       "119997                 [-0.00036614]  \n",
       "119998                 [-0.00036465]  \n",
       "119999                 [-0.00036533]  \n",
       "\n",
       "[120000 rows x 4 columns]"
      ]
     },
     "execution_count": 47,
     "metadata": {},
     "output_type": "execute_result"
    }
   ],
   "source": [
    "dataset3 = pd.read_csv('new2.csv')\n",
    "dataset3"
   ]
  },
  {
   "cell_type": "code",
   "execution_count": 0,
   "metadata": {
    "colab": {},
    "colab_type": "code",
    "id": "-Bw0HSzgLp4A"
   },
   "outputs": [],
   "source": []
  },
  {
   "cell_type": "code",
   "execution_count": 0,
   "metadata": {
    "colab": {},
    "colab_type": "code",
    "id": "_gwY7DRFq_ya"
   },
   "outputs": [],
   "source": []
  },
  {
   "cell_type": "code",
   "execution_count": 0,
   "metadata": {
    "colab": {},
    "colab_type": "code",
    "id": "3FNsokIkq_yb"
   },
   "outputs": [],
   "source": []
  },
  {
   "cell_type": "code",
   "execution_count": 0,
   "metadata": {
    "colab": {},
    "colab_type": "code",
    "id": "M12JpN-0q_yf"
   },
   "outputs": [],
   "source": []
  }
 ],
 "metadata": {
  "accelerator": "TPU",
  "colab": {
   "collapsed_sections": [],
   "name": "Winton_Stock_Prediction_1_(Ret_120).ipynb",
   "provenance": [],
   "version": "0.3.2"
  },
  "kernelspec": {
   "display_name": "Python 3",
   "language": "python",
   "name": "python3"
  },
  "language_info": {
   "codemirror_mode": {
    "name": "ipython",
    "version": 3
   },
   "file_extension": ".py",
   "mimetype": "text/x-python",
   "name": "python",
   "nbconvert_exporter": "python",
   "pygments_lexer": "ipython3",
   "version": "3.7.3"
  }
 },
 "nbformat": 4,
 "nbformat_minor": 1
}
